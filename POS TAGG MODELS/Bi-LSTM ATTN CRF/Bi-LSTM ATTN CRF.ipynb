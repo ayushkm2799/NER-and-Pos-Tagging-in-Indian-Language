{
  "cells": [
    {
      "cell_type": "code",
      "source": [
        " !nvidia-smi"
      ],
      "metadata": {
        "colab": {
          "base_uri": "https://localhost:8080/"
        },
        "id": "5ykJ7XTxwSPG",
        "outputId": "310c0a9b-3fc0-4838-9c8d-ffbf31a5c7c2"
      },
      "execution_count": null,
      "outputs": [
        {
          "output_type": "stream",
          "name": "stdout",
          "text": [
            "NVIDIA-SMI has failed because it couldn't communicate with the NVIDIA driver. Make sure that the latest NVIDIA driver is installed and running.\n",
            "\n"
          ]
        }
      ]
    },
    {
      "cell_type": "code",
      "execution_count": null,
      "metadata": {
        "colab": {
          "base_uri": "https://localhost:8080/"
        },
        "id": "SpD2-Wtqd7J8",
        "outputId": "d1273422-e709-4772-8876-4a282d5c5698"
      },
      "outputs": [
        {
          "output_type": "stream",
          "name": "stdout",
          "text": [
            "Mounted at /content/drive\n"
          ]
        }
      ],
      "source": [
        "from google.colab import drive\n",
        "drive.mount('/content/drive')"
      ]
    },
    {
      "cell_type": "code",
      "source": [
        "pip install numpy==1.19.5"
      ],
      "metadata": {
        "colab": {
          "base_uri": "https://localhost:8080/",
          "height": 383
        },
        "id": "qBfAcndZzIWm",
        "outputId": "117f8643-323f-4284-90fb-4aa3cf611c48"
      },
      "execution_count": null,
      "outputs": [
        {
          "output_type": "stream",
          "name": "stdout",
          "text": [
            "Looking in indexes: https://pypi.org/simple, https://us-python.pkg.dev/colab-wheels/public/simple/\n",
            "Collecting numpy==1.19.5\n",
            "  Downloading numpy-1.19.5-cp37-cp37m-manylinux2010_x86_64.whl (14.8 MB)\n",
            "\u001b[K     |████████████████████████████████| 14.8 MB 454 kB/s \n",
            "\u001b[?25hInstalling collected packages: numpy\n",
            "  Attempting uninstall: numpy\n",
            "    Found existing installation: numpy 1.21.6\n",
            "    Uninstalling numpy-1.21.6:\n",
            "      Successfully uninstalled numpy-1.21.6\n",
            "\u001b[31mERROR: pip's dependency resolver does not currently take into account all the packages that are installed. This behaviour is the source of the following dependency conflicts.\n",
            "xarray-einstats 0.2.2 requires numpy>=1.21, but you have numpy 1.19.5 which is incompatible.\n",
            "datascience 0.10.6 requires folium==0.2.1, but you have folium 0.8.3 which is incompatible.\n",
            "albumentations 0.1.12 requires imgaug<0.2.7,>=0.2.5, but you have imgaug 0.2.9 which is incompatible.\u001b[0m\n",
            "Successfully installed numpy-1.19.5\n"
          ]
        },
        {
          "output_type": "display_data",
          "data": {
            "application/vnd.colab-display-data+json": {
              "pip_warning": {
                "packages": [
                  "numpy"
                ]
              }
            }
          },
          "metadata": {}
        }
      ]
    },
    {
      "cell_type": "code",
      "execution_count": null,
      "metadata": {
        "id": "7W3ybLS_5K7Z",
        "colab": {
          "base_uri": "https://localhost:8080/"
        },
        "outputId": "dd981456-62d6-4019-f0df-d31b2b5c4c94"
      },
      "outputs": [
        {
          "output_type": "stream",
          "name": "stdout",
          "text": [
            "Looking in indexes: https://pypi.org/simple, https://us-python.pkg.dev/colab-wheels/public/simple/\n",
            "Collecting tensorflow==2.2\n",
            "  Downloading tensorflow-2.2.0-cp37-cp37m-manylinux2010_x86_64.whl (516.2 MB)\n",
            "\u001b[K     |████████████████████████████████| 516.2 MB 3.3 kB/s \n",
            "\u001b[?25hRequirement already satisfied: six>=1.12.0 in /usr/local/lib/python3.7/dist-packages (from tensorflow==2.2) (1.15.0)\n",
            "Collecting tensorflow-estimator<2.3.0,>=2.2.0\n",
            "  Downloading tensorflow_estimator-2.2.0-py2.py3-none-any.whl (454 kB)\n",
            "\u001b[K     |████████████████████████████████| 454 kB 68.8 MB/s \n",
            "\u001b[?25hRequirement already satisfied: scipy==1.4.1 in /usr/local/lib/python3.7/dist-packages (from tensorflow==2.2) (1.4.1)\n",
            "Collecting gast==0.3.3\n",
            "  Downloading gast-0.3.3-py2.py3-none-any.whl (9.7 kB)\n",
            "Requirement already satisfied: wrapt>=1.11.1 in /usr/local/lib/python3.7/dist-packages (from tensorflow==2.2) (1.14.1)\n",
            "Requirement already satisfied: google-pasta>=0.1.8 in /usr/local/lib/python3.7/dist-packages (from tensorflow==2.2) (0.2.0)\n",
            "Collecting tensorboard<2.3.0,>=2.2.0\n",
            "  Downloading tensorboard-2.2.2-py3-none-any.whl (3.0 MB)\n",
            "\u001b[K     |████████████████████████████████| 3.0 MB 43.8 MB/s \n",
            "\u001b[?25hRequirement already satisfied: termcolor>=1.1.0 in /usr/local/lib/python3.7/dist-packages (from tensorflow==2.2) (1.1.0)\n",
            "Requirement already satisfied: grpcio>=1.8.6 in /usr/local/lib/python3.7/dist-packages (from tensorflow==2.2) (1.46.3)\n",
            "Requirement already satisfied: astunparse==1.6.3 in /usr/local/lib/python3.7/dist-packages (from tensorflow==2.2) (1.6.3)\n",
            "Requirement already satisfied: opt-einsum>=2.3.2 in /usr/local/lib/python3.7/dist-packages (from tensorflow==2.2) (3.3.0)\n",
            "Requirement already satisfied: wheel>=0.26 in /usr/local/lib/python3.7/dist-packages (from tensorflow==2.2) (0.37.1)\n",
            "Requirement already satisfied: numpy<2.0,>=1.16.0 in /usr/local/lib/python3.7/dist-packages (from tensorflow==2.2) (1.21.6)\n",
            "Requirement already satisfied: absl-py>=0.7.0 in /usr/local/lib/python3.7/dist-packages (from tensorflow==2.2) (1.0.0)\n",
            "Requirement already satisfied: keras-preprocessing>=1.1.0 in /usr/local/lib/python3.7/dist-packages (from tensorflow==2.2) (1.1.2)\n",
            "Collecting h5py<2.11.0,>=2.10.0\n",
            "  Downloading h5py-2.10.0-cp37-cp37m-manylinux1_x86_64.whl (2.9 MB)\n",
            "\u001b[K     |████████████████████████████████| 2.9 MB 55.6 MB/s \n",
            "\u001b[?25hRequirement already satisfied: protobuf>=3.8.0 in /usr/local/lib/python3.7/dist-packages (from tensorflow==2.2) (3.17.3)\n",
            "Requirement already satisfied: tensorboard-plugin-wit>=1.6.0 in /usr/local/lib/python3.7/dist-packages (from tensorboard<2.3.0,>=2.2.0->tensorflow==2.2) (1.8.1)\n",
            "Requirement already satisfied: google-auth-oauthlib<0.5,>=0.4.1 in /usr/local/lib/python3.7/dist-packages (from tensorboard<2.3.0,>=2.2.0->tensorflow==2.2) (0.4.6)\n",
            "Requirement already satisfied: setuptools>=41.0.0 in /usr/local/lib/python3.7/dist-packages (from tensorboard<2.3.0,>=2.2.0->tensorflow==2.2) (57.4.0)\n",
            "Requirement already satisfied: requests<3,>=2.21.0 in /usr/local/lib/python3.7/dist-packages (from tensorboard<2.3.0,>=2.2.0->tensorflow==2.2) (2.23.0)\n",
            "Requirement already satisfied: markdown>=2.6.8 in /usr/local/lib/python3.7/dist-packages (from tensorboard<2.3.0,>=2.2.0->tensorflow==2.2) (3.3.7)\n",
            "Requirement already satisfied: werkzeug>=0.11.15 in /usr/local/lib/python3.7/dist-packages (from tensorboard<2.3.0,>=2.2.0->tensorflow==2.2) (1.0.1)\n",
            "Requirement already satisfied: google-auth<2,>=1.6.3 in /usr/local/lib/python3.7/dist-packages (from tensorboard<2.3.0,>=2.2.0->tensorflow==2.2) (1.35.0)\n",
            "Requirement already satisfied: cachetools<5.0,>=2.0.0 in /usr/local/lib/python3.7/dist-packages (from google-auth<2,>=1.6.3->tensorboard<2.3.0,>=2.2.0->tensorflow==2.2) (4.2.4)\n",
            "Requirement already satisfied: pyasn1-modules>=0.2.1 in /usr/local/lib/python3.7/dist-packages (from google-auth<2,>=1.6.3->tensorboard<2.3.0,>=2.2.0->tensorflow==2.2) (0.2.8)\n",
            "Requirement already satisfied: rsa<5,>=3.1.4 in /usr/local/lib/python3.7/dist-packages (from google-auth<2,>=1.6.3->tensorboard<2.3.0,>=2.2.0->tensorflow==2.2) (4.8)\n",
            "Requirement already satisfied: requests-oauthlib>=0.7.0 in /usr/local/lib/python3.7/dist-packages (from google-auth-oauthlib<0.5,>=0.4.1->tensorboard<2.3.0,>=2.2.0->tensorflow==2.2) (1.3.1)\n",
            "Requirement already satisfied: importlib-metadata>=4.4 in /usr/local/lib/python3.7/dist-packages (from markdown>=2.6.8->tensorboard<2.3.0,>=2.2.0->tensorflow==2.2) (4.11.4)\n",
            "Requirement already satisfied: typing-extensions>=3.6.4 in /usr/local/lib/python3.7/dist-packages (from importlib-metadata>=4.4->markdown>=2.6.8->tensorboard<2.3.0,>=2.2.0->tensorflow==2.2) (4.2.0)\n",
            "Requirement already satisfied: zipp>=0.5 in /usr/local/lib/python3.7/dist-packages (from importlib-metadata>=4.4->markdown>=2.6.8->tensorboard<2.3.0,>=2.2.0->tensorflow==2.2) (3.8.0)\n",
            "Requirement already satisfied: pyasn1<0.5.0,>=0.4.6 in /usr/local/lib/python3.7/dist-packages (from pyasn1-modules>=0.2.1->google-auth<2,>=1.6.3->tensorboard<2.3.0,>=2.2.0->tensorflow==2.2) (0.4.8)\n",
            "Requirement already satisfied: idna<3,>=2.5 in /usr/local/lib/python3.7/dist-packages (from requests<3,>=2.21.0->tensorboard<2.3.0,>=2.2.0->tensorflow==2.2) (2.10)\n",
            "Requirement already satisfied: urllib3!=1.25.0,!=1.25.1,<1.26,>=1.21.1 in /usr/local/lib/python3.7/dist-packages (from requests<3,>=2.21.0->tensorboard<2.3.0,>=2.2.0->tensorflow==2.2) (1.24.3)\n",
            "Requirement already satisfied: chardet<4,>=3.0.2 in /usr/local/lib/python3.7/dist-packages (from requests<3,>=2.21.0->tensorboard<2.3.0,>=2.2.0->tensorflow==2.2) (3.0.4)\n",
            "Requirement already satisfied: certifi>=2017.4.17 in /usr/local/lib/python3.7/dist-packages (from requests<3,>=2.21.0->tensorboard<2.3.0,>=2.2.0->tensorflow==2.2) (2022.5.18.1)\n",
            "Requirement already satisfied: oauthlib>=3.0.0 in /usr/local/lib/python3.7/dist-packages (from requests-oauthlib>=0.7.0->google-auth-oauthlib<0.5,>=0.4.1->tensorboard<2.3.0,>=2.2.0->tensorflow==2.2) (3.2.0)\n",
            "Installing collected packages: tensorflow-estimator, tensorboard, h5py, gast, tensorflow\n",
            "  Attempting uninstall: tensorflow-estimator\n",
            "    Found existing installation: tensorflow-estimator 2.8.0\n",
            "    Uninstalling tensorflow-estimator-2.8.0:\n",
            "      Successfully uninstalled tensorflow-estimator-2.8.0\n",
            "  Attempting uninstall: tensorboard\n",
            "    Found existing installation: tensorboard 2.8.0\n",
            "    Uninstalling tensorboard-2.8.0:\n",
            "      Successfully uninstalled tensorboard-2.8.0\n",
            "  Attempting uninstall: h5py\n",
            "    Found existing installation: h5py 3.1.0\n",
            "    Uninstalling h5py-3.1.0:\n",
            "      Successfully uninstalled h5py-3.1.0\n",
            "  Attempting uninstall: gast\n",
            "    Found existing installation: gast 0.5.3\n",
            "    Uninstalling gast-0.5.3:\n",
            "      Successfully uninstalled gast-0.5.3\n",
            "  Attempting uninstall: tensorflow\n",
            "    Found existing installation: tensorflow 2.8.2+zzzcolab20220527125636\n",
            "    Uninstalling tensorflow-2.8.2+zzzcolab20220527125636:\n",
            "      Successfully uninstalled tensorflow-2.8.2+zzzcolab20220527125636\n",
            "Successfully installed gast-0.3.3 h5py-2.10.0 tensorboard-2.2.2 tensorflow-2.2.0 tensorflow-estimator-2.2.0\n"
          ]
        }
      ],
      "source": [
        "pip install tensorflow==2.2"
      ]
    },
    {
      "cell_type": "code",
      "execution_count": null,
      "metadata": {
        "id": "bDOWiurF6Ikq",
        "colab": {
          "base_uri": "https://localhost:8080/"
        },
        "outputId": "19d9955b-14a3-454f-be34-987213d21c51"
      },
      "outputs": [
        {
          "output_type": "stream",
          "name": "stdout",
          "text": [
            "Looking in indexes: https://pypi.org/simple, https://us-python.pkg.dev/colab-wheels/public/simple/\n",
            "Collecting keras==2.3.1\n",
            "  Downloading Keras-2.3.1-py2.py3-none-any.whl (377 kB)\n",
            "\u001b[K     |████████████████████████████████| 377 kB 15.0 MB/s \n",
            "\u001b[?25hRequirement already satisfied: scipy>=0.14 in /usr/local/lib/python3.7/dist-packages (from keras==2.3.1) (1.4.1)\n",
            "Requirement already satisfied: pyyaml in /usr/local/lib/python3.7/dist-packages (from keras==2.3.1) (3.13)\n",
            "Requirement already satisfied: six>=1.9.0 in /usr/local/lib/python3.7/dist-packages (from keras==2.3.1) (1.15.0)\n",
            "Collecting keras-applications>=1.0.6\n",
            "  Downloading Keras_Applications-1.0.8-py3-none-any.whl (50 kB)\n",
            "\u001b[K     |████████████████████████████████| 50 kB 6.6 MB/s \n",
            "\u001b[?25hRequirement already satisfied: keras-preprocessing>=1.0.5 in /usr/local/lib/python3.7/dist-packages (from keras==2.3.1) (1.1.2)\n",
            "Requirement already satisfied: numpy>=1.9.1 in /usr/local/lib/python3.7/dist-packages (from keras==2.3.1) (1.21.6)\n",
            "Requirement already satisfied: h5py in /usr/local/lib/python3.7/dist-packages (from keras==2.3.1) (2.10.0)\n",
            "Installing collected packages: keras-applications, keras\n",
            "  Attempting uninstall: keras\n",
            "    Found existing installation: keras 2.8.0\n",
            "    Uninstalling keras-2.8.0:\n",
            "      Successfully uninstalled keras-2.8.0\n",
            "Successfully installed keras-2.3.1 keras-applications-1.0.8\n"
          ]
        }
      ],
      "source": [
        "pip install keras==2.3.1"
      ]
    },
    {
      "cell_type": "code",
      "source": [
        "pip install keras-multi-head"
      ],
      "metadata": {
        "colab": {
          "base_uri": "https://localhost:8080/"
        },
        "id": "33vqB0WjyGYZ",
        "outputId": "0ee837e4-ca58-4565-d44b-1bff46ff3518"
      },
      "execution_count": null,
      "outputs": [
        {
          "output_type": "stream",
          "name": "stdout",
          "text": [
            "Looking in indexes: https://pypi.org/simple, https://us-python.pkg.dev/colab-wheels/public/simple/\n",
            "Collecting keras-multi-head\n",
            "  Downloading keras-multi-head-0.29.0.tar.gz (13 kB)\n",
            "Collecting keras-self-attention==0.51.0\n",
            "  Downloading keras-self-attention-0.51.0.tar.gz (11 kB)\n",
            "Requirement already satisfied: numpy in /usr/local/lib/python3.7/dist-packages (from keras-self-attention==0.51.0->keras-multi-head) (1.21.6)\n",
            "Building wheels for collected packages: keras-multi-head, keras-self-attention\n",
            "  Building wheel for keras-multi-head (setup.py) ... \u001b[?25l\u001b[?25hdone\n",
            "  Created wheel for keras-multi-head: filename=keras_multi_head-0.29.0-py3-none-any.whl size=14993 sha256=a598a9a138b247c38bf8e82edfa2390f24aa957f11216972bb5d47a2aa19a5f0\n",
            "  Stored in directory: /root/.cache/pip/wheels/86/aa/3c/9d15d24005179dae08ff291ce99c754b296347817d076fd9fb\n",
            "  Building wheel for keras-self-attention (setup.py) ... \u001b[?25l\u001b[?25hdone\n",
            "  Created wheel for keras-self-attention: filename=keras_self_attention-0.51.0-py3-none-any.whl size=18912 sha256=39eb8d492de3aeec84c5273ea11c22aa9323bf2f7e22a7a089ec517470a3fdc8\n",
            "  Stored in directory: /root/.cache/pip/wheels/95/b1/a8/5ee00cc137940b2f6fa198212e8f45d813d0e0d9c3a04035a3\n",
            "Successfully built keras-multi-head keras-self-attention\n",
            "Installing collected packages: keras-self-attention, keras-multi-head\n",
            "Successfully installed keras-multi-head-0.29.0 keras-self-attention-0.51.0\n"
          ]
        }
      ]
    },
    {
      "cell_type": "code",
      "source": [
        "import pickle\n",
        "import numpy as np\n",
        "import os"
      ],
      "metadata": {
        "id": "5eh9gNuMTLYm"
      },
      "execution_count": null,
      "outputs": []
    },
    {
      "cell_type": "code",
      "source": [
        "from tensorflow import keras\n",
        "from keras_multi_head import MultiHead\n"
      ],
      "metadata": {
        "id": "1so_zkBRwD1B"
      },
      "execution_count": null,
      "outputs": []
    },
    {
      "cell_type": "code",
      "source": [
        ""
      ],
      "metadata": {
        "id": "9vc7j43bwD_H"
      },
      "execution_count": null,
      "outputs": []
    },
    {
      "cell_type": "markdown",
      "source": [
        "## Train Data"
      ],
      "metadata": {
        "id": "waTPLQtxEvC2"
      }
    },
    {
      "cell_type": "code",
      "source": [
        "file='/content/drive/MyDrive/Colab Notebooks/postag/train_data/train_data.txt'\n",
        "raw_corpus=''\n",
        "with open(file) as f:\n",
        "    raw_corpus = raw_corpus + '\\n' + f.read()\n",
        "\n",
        "corpus = raw_corpus.split('\\n')\n",
        "corpus= corpus[1:-1]\n",
        "print('CORPUS SIZE', len(corpus), '\\n')"
      ],
      "metadata": {
        "colab": {
          "base_uri": "https://localhost:8080/"
        },
        "id": "h_FEMz6k9PBz",
        "outputId": "38506acf-7464-41db-de5b-54fce3076496"
      },
      "execution_count": null,
      "outputs": [
        {
          "output_type": "stream",
          "name": "stdout",
          "text": [
            "CORPUS SIZE 14963 \n",
            "\n"
          ]
        }
      ]
    },
    {
      "cell_type": "code",
      "source": [
        ""
      ],
      "metadata": {
        "id": "Wc9-HbJtNaR2"
      },
      "execution_count": null,
      "outputs": []
    },
    {
      "cell_type": "code",
      "source": [
        "X_train = []\n",
        "Y_train = []\n",
        "words = []\n",
        "tags = []\n",
        "n_omitted = 0\n",
        "train_max_len = 0"
      ],
      "metadata": {
        "id": "rIzV9m9-NhRU"
      },
      "execution_count": null,
      "outputs": []
    },
    {
      "cell_type": "code",
      "source": [
        "\n",
        "i=0\n",
        "for line in corpus:\n",
        "    if(len(line)>0):\n",
        "        tempX = []\n",
        "        tempY = []\n",
        "        for word in line.split():\n",
        "            # print(word)\n",
        "            # n_omitted = n_omitted + 1\n",
        "                # print(word,end=\" \")\n",
        "            li=word.split('/')\n",
        "            tag=li[-1]\n",
        "            w='/'.join(li[:-1])\n",
        "            w = w.lower()\n",
        "            words.append(w)\n",
        "            tags.append(tag)\n",
        "            tempX.append(w)\n",
        "            tempY.append(tag)\n",
        "            train_max_len = max(train_max_len,len(tempX))\n",
        "\n",
        "        X_train.append(tempX)\n",
        "        Y_train.append(tempY)"
      ],
      "metadata": {
        "id": "Ll-ksmdeNhUG"
      },
      "execution_count": null,
      "outputs": []
    },
    {
      "cell_type": "code",
      "execution_count": null,
      "metadata": {
        "colab": {
          "base_uri": "https://localhost:8080/"
        },
        "id": "dsBYV0lYjPHA",
        "outputId": "345d69c3-6399-46c5-cf3c-ca4e77692b30"
      },
      "outputs": [
        {
          "output_type": "stream",
          "name": "stdout",
          "text": [
            "TOTAL NO OF SAMPLES:  14963 \n",
            "\n",
            "Max Length 116 \n",
            "\n",
            "No of Words 316274 \n",
            "\n"
          ]
        }
      ],
      "source": [
        "print('TOTAL NO OF SAMPLES: ', len(X_train), '\\n')\n",
        "print('Max Length',train_max_len,'\\n')\n",
        "print('No of Words',len(words),'\\n')"
      ]
    },
    {
      "cell_type": "code",
      "execution_count": null,
      "metadata": {
        "colab": {
          "base_uri": "https://localhost:8080/"
        },
        "id": "zIc6MjpzjR20",
        "outputId": "ac96b613-ceb0-45c7-b634-f05f7de59d36"
      },
      "outputs": [
        {
          "output_type": "stream",
          "name": "stdout",
          "text": [
            "sample X_train:  ['ठहरने', 'के', 'लिए', '-', 'मध्यप्रदेश', 'पर्यटन', 'विकास', 'निगम', 'के', 'होटल', 'तथा', 'निजी', 'होटल', 'हैं', '।'] \n",
            "\n",
            "sample Y_train:  ['VM', 'PSP', 'PSP', 'SYM', 'NNP', 'NNP', 'NNP', 'NNP', 'PSP', 'NN', 'CC', 'JJ', 'NN', 'VM', 'SYM'] \n",
            "\n"
          ]
        }
      ],
      "source": [
        "print('sample X_train: ', X_train[42], '\\n')\n",
        "print('sample Y_train: ', Y_train[42], '\\n')"
      ]
    },
    {
      "cell_type": "code",
      "source": [
        "words = set(words)\n",
        "tags = set(tags)\n",
        "\n",
        "print('VOCAB SIZE: ', len(words))\n",
        "print('TOTAL TAGS: ', len(tags))\n",
        "\n",
        "print('MAX_LEN: ', train_max_len)\n",
        "assert len(X_train) == len(Y_train)"
      ],
      "metadata": {
        "colab": {
          "base_uri": "https://localhost:8080/"
        },
        "id": "l_rpojFYSc5d",
        "outputId": "eba6a564-5160-4ef9-dc5c-33fbf0d1897d"
      },
      "execution_count": null,
      "outputs": [
        {
          "output_type": "stream",
          "name": "stdout",
          "text": [
            "VOCAB SIZE:  18100\n",
            "TOTAL TAGS:  25\n",
            "MAX_LEN:  116\n"
          ]
        }
      ]
    },
    {
      "cell_type": "code",
      "source": [
        "word2int = {}\n",
        "int2word = {}\n",
        "word2int['-PAD-'] = 0  # The special value used for padding\n",
        "word2int['-OOV-'] = 1  # The special value used for OOVs\n",
        "int2word[0]='-PAD-'\n",
        "int2word[1]='-OOV-'\n",
        "i=2\n",
        "for _, word in enumerate(words):\n",
        "    word2int[word] = i+1\n",
        "    int2word[i+1] = word\n",
        "    i+=1"
      ],
      "metadata": {
        "id": "5SaQAQu9SkFx"
      },
      "execution_count": null,
      "outputs": []
    },
    {
      "cell_type": "code",
      "source": [
        "tags"
      ],
      "metadata": {
        "colab": {
          "base_uri": "https://localhost:8080/"
        },
        "id": "SxqhD5GaSnFv",
        "outputId": "9f30784d-ba8e-45fc-cff1-34162d95a30f"
      },
      "execution_count": null,
      "outputs": [
        {
          "output_type": "execute_result",
          "data": {
            "text/plain": [
              "{'CC',\n",
              " 'DEM',\n",
              " 'INJ',\n",
              " 'INTF',\n",
              " 'JJ',\n",
              " 'NEG',\n",
              " 'NN',\n",
              " 'NNP',\n",
              " 'NST',\n",
              " 'PRP',\n",
              " 'PRPC',\n",
              " 'PSP',\n",
              " 'QC',\n",
              " 'QF',\n",
              " 'QFC',\n",
              " 'QO',\n",
              " 'RB',\n",
              " 'RBC',\n",
              " 'RDP',\n",
              " 'RP',\n",
              " 'SYM',\n",
              " 'UNK',\n",
              " 'VAUX',\n",
              " 'VM',\n",
              " 'WQ'}"
            ]
          },
          "metadata": {},
          "execution_count": 14
        }
      ]
    },
    {
      "cell_type": "code",
      "source": [
        "tag2int = {}\n",
        "int2tag = {}\n",
        "tag2int['-PAD-'] = 0\n",
        "int2tag[0]='-PAD-'\n",
        "i=1\n",
        "for _, tag in enumerate(tags):\n",
        "    tag2int[tag] = i+1\n",
        "    int2tag[i+1] = tag\n",
        "    i+=1"
      ],
      "metadata": {
        "id": "ngVWNKB2SpCf"
      },
      "execution_count": null,
      "outputs": []
    },
    {
      "cell_type": "code",
      "source": [
        "X_train_numberised = []\n",
        "Y_train_numberised = []\n",
        "\n",
        "for sentence in X_train:\n",
        "    tempX = []\n",
        "    for word in sentence:\n",
        "        tempX.append(word2int[word])\n",
        "    X_train_numberised.append(tempX)"
      ],
      "metadata": {
        "id": "Awn1KcntSpFF"
      },
      "execution_count": null,
      "outputs": []
    },
    {
      "cell_type": "code",
      "source": [
        "X_train_numberised[0]"
      ],
      "metadata": {
        "colab": {
          "base_uri": "https://localhost:8080/"
        },
        "id": "6sY9Qy0LSpHt",
        "outputId": "c3c842a1-cd7e-4a4a-fc61-ebbe2dda7177"
      },
      "execution_count": null,
      "outputs": [
        {
          "output_type": "execute_result",
          "data": {
            "text/plain": [
              "[15217, 8176, 1225, 9980, 14786, 16015, 17209, 12278, 3615, 10978, 2275]"
            ]
          },
          "metadata": {},
          "execution_count": 17
        }
      ]
    },
    {
      "cell_type": "code",
      "source": [
        "for tags in Y_train:\n",
        "    tempY = []\n",
        "    for tag in tags:\n",
        "        tempY.append(tag2int[tag])\n",
        "    Y_train_numberised.append(tempY)"
      ],
      "metadata": {
        "id": "zHmhUY4cTACX"
      },
      "execution_count": null,
      "outputs": []
    },
    {
      "cell_type": "code",
      "source": [
        "print('sample X_train_numberised: ', X_train_numberised[42], '\\n')\n",
        "print('sample Y_train_numberised: ', Y_train_numberised[42], '\\n')"
      ],
      "metadata": {
        "colab": {
          "base_uri": "https://localhost:8080/"
        },
        "id": "gPPGT5B8TAEv",
        "outputId": "4261fc6e-0ad1-4e03-e513-647a100cdcb0"
      },
      "execution_count": null,
      "outputs": [
        {
          "output_type": "stream",
          "name": "stdout",
          "text": [
            "sample X_train_numberised:  [5679, 15895, 13467, 9387, 4059, 5947, 13008, 17924, 15895, 4223, 13028, 16765, 4223, 15786, 2275] \n",
            "\n",
            "sample Y_train_numberised:  [6, 13, 13, 15, 11, 11, 11, 11, 13, 20, 12, 4, 20, 6, 15] \n",
            "\n"
          ]
        }
      ]
    },
    {
      "cell_type": "code",
      "source": [
        "X_train_numberised = np.asarray(X_train_numberised)\n",
        "Y_train_numberised = np.asarray(Y_train_numberised)"
      ],
      "metadata": {
        "colab": {
          "base_uri": "https://localhost:8080/"
        },
        "id": "5UG2QCOFTAG4",
        "outputId": "e7c9f882-f17f-4dfe-977c-2a8d0f09fe1e"
      },
      "execution_count": null,
      "outputs": [
        {
          "output_type": "stream",
          "name": "stderr",
          "text": [
            "/usr/local/lib/python3.7/dist-packages/numpy/core/_asarray.py:83: VisibleDeprecationWarning: Creating an ndarray from ragged nested sequences (which is a list-or-tuple of lists-or-tuples-or ndarrays with different lengths or shapes) is deprecated. If you meant to do this, you must specify 'dtype=object' when creating the ndarray\n",
            "  return array(a, dtype, copy=False, order=order)\n"
          ]
        }
      ]
    },
    {
      "cell_type": "markdown",
      "source": [
        "## Test Data"
      ],
      "metadata": {
        "id": "s7GtCt_aEySn"
      }
    },
    {
      "cell_type": "code",
      "source": [
        "test_file='/content/drive/MyDrive/Colab Notebooks/postag/test_data/test_tagged.txt'\n",
        "test_corpus = ''\n",
        "with open(test_file) as f:\n",
        "    test_corpus = test_corpus + '\\n' + f.read()\n"
      ],
      "metadata": {
        "id": "CB_Pdk5dE5S7"
      },
      "execution_count": null,
      "outputs": []
    },
    {
      "cell_type": "code",
      "source": [
        "new_test_corpus = test_corpus.split('\\n')\n",
        "print('CORPUS SIZE', len(new_test_corpus), '\\n')"
      ],
      "metadata": {
        "colab": {
          "base_uri": "https://localhost:8080/"
        },
        "id": "sPccTChmSYZm",
        "outputId": "1bb041d8-55a4-4521-d26c-7b34fe88cabb"
      },
      "execution_count": null,
      "outputs": [
        {
          "output_type": "stream",
          "name": "stdout",
          "text": [
            "CORPUS SIZE 1686 \n",
            "\n"
          ]
        }
      ]
    },
    {
      "cell_type": "code",
      "source": [
        "new_test_corpus=new_test_corpus[1:]"
      ],
      "metadata": {
        "id": "3pgFmIH1Vc2Y"
      },
      "execution_count": null,
      "outputs": []
    },
    {
      "cell_type": "code",
      "source": [
        "len(new_test_corpus)"
      ],
      "metadata": {
        "colab": {
          "base_uri": "https://localhost:8080/"
        },
        "id": "NeBiLpY2Vc4r",
        "outputId": "b3fa85d6-2ef6-4d4c-df0c-6886b651ed45"
      },
      "execution_count": null,
      "outputs": [
        {
          "output_type": "execute_result",
          "data": {
            "text/plain": [
              "1685"
            ]
          },
          "metadata": {},
          "execution_count": 24
        }
      ]
    },
    {
      "cell_type": "code",
      "source": [
        "X_test = []\n",
        "Y_test=[]\n",
        "test_words = []\n",
        "n_omitted = 0\n",
        "test_max_len = 0"
      ],
      "metadata": {
        "id": "UdHGlAvCVc7Z"
      },
      "execution_count": null,
      "outputs": []
    },
    {
      "cell_type": "code",
      "source": [
        "\n",
        "i=0\n",
        "for line in new_test_corpus:\n",
        "    if(len(line)>0):\n",
        "        tempX = []\n",
        "        tempY = []\n",
        "        for word in line.split():\n",
        "\n",
        "            li=word.split('/')\n",
        "            tag=li[-1]\n",
        "            w='/'.join(li[:-1])\n",
        "            w = w.lower()\n",
        "            test_words.append(w)\n",
        "            tags.append(tag)\n",
        "            tempX.append(w)\n",
        "            tempY.append(tag)\n",
        "            test_max_len = max(test_max_len,len(tempX))\n",
        "\n",
        "        X_test.append(tempX)\n",
        "        Y_test.append(tempY)"
      ],
      "metadata": {
        "id": "umgcgUfxVc9q"
      },
      "execution_count": null,
      "outputs": []
    },
    {
      "cell_type": "code",
      "source": [
        "print('TOTAL NO OF SAMPLES: ', len(X_test), '\\n')"
      ],
      "metadata": {
        "colab": {
          "base_uri": "https://localhost:8080/"
        },
        "id": "3HyayjoXFB8X",
        "outputId": "5f567bda-9473-4fa6-b548-c626391e29f4"
      },
      "execution_count": null,
      "outputs": [
        {
          "output_type": "stream",
          "name": "stdout",
          "text": [
            "TOTAL NO OF SAMPLES:  1684 \n",
            "\n"
          ]
        }
      ]
    },
    {
      "cell_type": "code",
      "source": [
        "test_words = set(test_words)\n",
        "\n",
        "print('VOCAB SIZE: ', len(test_words))\n",
        "print('MAX_LEN: ', test_max_len)\n"
      ],
      "metadata": {
        "colab": {
          "base_uri": "https://localhost:8080/"
        },
        "id": "GWjODZOBFB-8",
        "outputId": "275a914d-b2b1-47cb-b49e-f9283149624e"
      },
      "execution_count": null,
      "outputs": [
        {
          "output_type": "stream",
          "name": "stdout",
          "text": [
            "VOCAB SIZE:  5335\n",
            "MAX_LEN:  66\n"
          ]
        }
      ]
    },
    {
      "cell_type": "code",
      "source": [
        "i=len(word2int)"
      ],
      "metadata": {
        "id": "gLAnUsyrZ6F1"
      },
      "execution_count": null,
      "outputs": []
    },
    {
      "cell_type": "code",
      "source": [
        "print(i)"
      ],
      "metadata": {
        "colab": {
          "base_uri": "https://localhost:8080/"
        },
        "id": "vIKOQlQtaIvr",
        "outputId": "f8895ae1-fa13-451b-f004-1f004c65a8af"
      },
      "execution_count": null,
      "outputs": [
        {
          "output_type": "stream",
          "name": "stdout",
          "text": [
            "18102\n"
          ]
        }
      ]
    },
    {
      "cell_type": "code",
      "source": [
        "x=0\n",
        "for _, word in enumerate(test_words):\n",
        "    if(word in word2int):\n",
        "        x+=1\n",
        "    else:\n",
        "        word2int[word]=i+1\n",
        "        int2word[i+1]=word\n",
        "        i+=1"
      ],
      "metadata": {
        "id": "3jSmvz9xZ6Iu"
      },
      "execution_count": null,
      "outputs": []
    },
    {
      "cell_type": "code",
      "source": [
        "len(word2int),len(int2word)"
      ],
      "metadata": {
        "colab": {
          "base_uri": "https://localhost:8080/"
        },
        "id": "tdjHMvoxaEgt",
        "outputId": "9588ef9e-962c-4743-8b34-3e5fd6be9a0c"
      },
      "execution_count": null,
      "outputs": [
        {
          "output_type": "execute_result",
          "data": {
            "text/plain": [
              "(19234, 19234)"
            ]
          },
          "metadata": {},
          "execution_count": 34
        }
      ]
    },
    {
      "cell_type": "code",
      "source": [
        "X_test_numberised = []\n",
        "for sentence in X_test:\n",
        "    tempX = []\n",
        "    for word in sentence:\n",
        "        tempX.append(word2int[word])\n",
        "    X_test_numberised.append(tempX)"
      ],
      "metadata": {
        "id": "u6H_OblZaEjK"
      },
      "execution_count": null,
      "outputs": []
    },
    {
      "cell_type": "code",
      "source": [
        "X_test_numberised = np.asarray(X_test_numberised)\n"
      ],
      "metadata": {
        "colab": {
          "base_uri": "https://localhost:8080/"
        },
        "id": "atGhEHE-aElf",
        "outputId": "e2fc606a-bdab-42ca-feb7-8720065dea16"
      },
      "execution_count": null,
      "outputs": [
        {
          "output_type": "stream",
          "name": "stderr",
          "text": [
            "/usr/local/lib/python3.7/dist-packages/numpy/core/_asarray.py:83: VisibleDeprecationWarning: Creating an ndarray from ragged nested sequences (which is a list-or-tuple of lists-or-tuples-or ndarrays with different lengths or shapes) is deprecated. If you meant to do this, you must specify 'dtype=object' when creating the ndarray\n",
            "  return array(a, dtype, copy=False, order=order)\n"
          ]
        }
      ]
    },
    {
      "cell_type": "markdown",
      "source": [
        "# Create Pickle"
      ],
      "metadata": {
        "id": "C5NHFr4lE5dc"
      }
    },
    {
      "cell_type": "code",
      "source": [
        "# fname1='/content/drive/MyDrive/BiLSTM_PosTag/PickledData/data.pkl'\n",
        "# pickling(words,tags,X_train,Y_train,fname1)"
      ],
      "metadata": {
        "id": "SqSyvqxGDXHb"
      },
      "execution_count": null,
      "outputs": []
    },
    {
      "cell_type": "code",
      "source": [
        "# fname2='/content/drive/MyDrive/BiLSTM_PosTag/PickledData/test_data.pkl'\n",
        "# pickling(test_words,test_tags,X_test,Y_test,fname2)"
      ],
      "metadata": {
        "id": "I8QfjqyOHetx"
      },
      "execution_count": null,
      "outputs": []
    },
    {
      "cell_type": "markdown",
      "metadata": {
        "id": "nHtipv8DmOGq"
      },
      "source": [
        "#Training"
      ]
    },
    {
      "cell_type": "code",
      "execution_count": null,
      "metadata": {
        "id": "UMByF52hnT-a",
        "colab": {
          "base_uri": "https://localhost:8080/"
        },
        "outputId": "f26fec00-69b6-40bc-9b80-c8f53cfa82b2"
      },
      "outputs": [
        {
          "output_type": "stream",
          "name": "stdout",
          "text": [
            "Looking in indexes: https://pypi.org/simple, https://us-python.pkg.dev/colab-wheels/public/simple/\n",
            "Requirement already satisfied: crf in /usr/local/lib/python3.7/dist-packages (0.0.1a1)\n"
          ]
        }
      ],
      "source": [
        "!pip install crf"
      ]
    },
    {
      "cell_type": "code",
      "execution_count": null,
      "metadata": {
        "id": "i1up72xAkOjb"
      },
      "outputs": [],
      "source": [
        "import numpy as np\n",
        "import pickle, sys, os\n",
        "from keras.preprocessing.sequence import pad_sequences\n",
        "from keras.utils.np_utils import to_categorical\n",
        "from keras.layers import Embedding\n",
        "from keras.layers import Dense, Input\n",
        "from keras.layers import TimeDistributed\n",
        "from keras.layers import LSTM, Bidirectional, Dropout\n",
        "from keras.models import Model\n",
        "from tensorflow.keras.optimizers import Adam\n"
      ]
    },
    {
      "cell_type": "code",
      "execution_count": null,
      "metadata": {
        "colab": {
          "base_uri": "https://localhost:8080/"
        },
        "id": "Tt949tIuwjQ0",
        "outputId": "acd12c6d-e6cb-40b1-fe31-c11f36d50f54"
      },
      "outputs": [
        {
          "output_type": "stream",
          "name": "stdout",
          "text": [
            "Looking in indexes: https://pypi.org/simple, https://us-python.pkg.dev/colab-wheels/public/simple/\n",
            "Collecting git+https://www.github.com/keras-team/keras-contrib.git\n",
            "  Cloning https://www.github.com/keras-team/keras-contrib.git to /tmp/pip-req-build-cjz5po1u\n",
            "  Running command git clone -q https://www.github.com/keras-team/keras-contrib.git /tmp/pip-req-build-cjz5po1u\n",
            "Requirement already satisfied: keras in /usr/local/lib/python3.7/dist-packages (from keras-contrib==2.0.8) (2.3.1)\n",
            "Requirement already satisfied: pyyaml in /usr/local/lib/python3.7/dist-packages (from keras->keras-contrib==2.0.8) (3.13)\n",
            "Requirement already satisfied: six>=1.9.0 in /usr/local/lib/python3.7/dist-packages (from keras->keras-contrib==2.0.8) (1.15.0)\n",
            "Requirement already satisfied: h5py in /usr/local/lib/python3.7/dist-packages (from keras->keras-contrib==2.0.8) (2.10.0)\n",
            "Requirement already satisfied: numpy>=1.9.1 in /usr/local/lib/python3.7/dist-packages (from keras->keras-contrib==2.0.8) (1.19.5)\n",
            "Requirement already satisfied: scipy>=0.14 in /usr/local/lib/python3.7/dist-packages (from keras->keras-contrib==2.0.8) (1.4.1)\n",
            "Requirement already satisfied: keras-preprocessing>=1.0.5 in /usr/local/lib/python3.7/dist-packages (from keras->keras-contrib==2.0.8) (1.1.2)\n",
            "Requirement already satisfied: keras-applications>=1.0.6 in /usr/local/lib/python3.7/dist-packages (from keras->keras-contrib==2.0.8) (1.0.8)\n"
          ]
        }
      ],
      "source": [
        "pip install git+https://www.github.com/keras-team/keras-contrib.git"
      ]
    },
    {
      "cell_type": "code",
      "execution_count": null,
      "metadata": {
        "colab": {
          "base_uri": "https://localhost:8080/"
        },
        "id": "YPRlG3Pww5lo",
        "outputId": "34bee587-d671-409c-e3ca-a813845077ff"
      },
      "outputs": [
        {
          "output_type": "stream",
          "name": "stdout",
          "text": [
            "Looking in indexes: https://pypi.org/simple, https://us-python.pkg.dev/colab-wheels/public/simple/\n",
            "Requirement already satisfied: keras-crf in /usr/local/lib/python3.7/dist-packages (0.3.0)\n",
            "Requirement already satisfied: tensorflow-addons in /usr/local/lib/python3.7/dist-packages (from keras-crf) (0.17.0)\n",
            "Requirement already satisfied: tensorflow in /usr/local/lib/python3.7/dist-packages (from keras-crf) (2.2.0)\n",
            "Requirement already satisfied: six>=1.12.0 in /usr/local/lib/python3.7/dist-packages (from tensorflow->keras-crf) (1.15.0)\n",
            "Requirement already satisfied: keras-preprocessing>=1.1.0 in /usr/local/lib/python3.7/dist-packages (from tensorflow->keras-crf) (1.1.2)\n",
            "Requirement already satisfied: h5py<2.11.0,>=2.10.0 in /usr/local/lib/python3.7/dist-packages (from tensorflow->keras-crf) (2.10.0)\n",
            "Requirement already satisfied: protobuf>=3.8.0 in /usr/local/lib/python3.7/dist-packages (from tensorflow->keras-crf) (3.17.3)\n",
            "Requirement already satisfied: wrapt>=1.11.1 in /usr/local/lib/python3.7/dist-packages (from tensorflow->keras-crf) (1.14.1)\n",
            "Requirement already satisfied: tensorboard<2.3.0,>=2.2.0 in /usr/local/lib/python3.7/dist-packages (from tensorflow->keras-crf) (2.2.2)\n",
            "Requirement already satisfied: grpcio>=1.8.6 in /usr/local/lib/python3.7/dist-packages (from tensorflow->keras-crf) (1.46.3)\n",
            "Requirement already satisfied: astunparse==1.6.3 in /usr/local/lib/python3.7/dist-packages (from tensorflow->keras-crf) (1.6.3)\n",
            "Requirement already satisfied: tensorflow-estimator<2.3.0,>=2.2.0 in /usr/local/lib/python3.7/dist-packages (from tensorflow->keras-crf) (2.2.0)\n",
            "Requirement already satisfied: google-pasta>=0.1.8 in /usr/local/lib/python3.7/dist-packages (from tensorflow->keras-crf) (0.2.0)\n",
            "Requirement already satisfied: wheel>=0.26 in /usr/local/lib/python3.7/dist-packages (from tensorflow->keras-crf) (0.37.1)\n",
            "Requirement already satisfied: numpy<2.0,>=1.16.0 in /usr/local/lib/python3.7/dist-packages (from tensorflow->keras-crf) (1.19.5)\n",
            "Requirement already satisfied: opt-einsum>=2.3.2 in /usr/local/lib/python3.7/dist-packages (from tensorflow->keras-crf) (3.3.0)\n",
            "Requirement already satisfied: scipy==1.4.1 in /usr/local/lib/python3.7/dist-packages (from tensorflow->keras-crf) (1.4.1)\n",
            "Requirement already satisfied: absl-py>=0.7.0 in /usr/local/lib/python3.7/dist-packages (from tensorflow->keras-crf) (1.0.0)\n",
            "Requirement already satisfied: gast==0.3.3 in /usr/local/lib/python3.7/dist-packages (from tensorflow->keras-crf) (0.3.3)\n",
            "Requirement already satisfied: termcolor>=1.1.0 in /usr/local/lib/python3.7/dist-packages (from tensorflow->keras-crf) (1.1.0)\n",
            "Requirement already satisfied: google-auth-oauthlib<0.5,>=0.4.1 in /usr/local/lib/python3.7/dist-packages (from tensorboard<2.3.0,>=2.2.0->tensorflow->keras-crf) (0.4.6)\n",
            "Requirement already satisfied: tensorboard-plugin-wit>=1.6.0 in /usr/local/lib/python3.7/dist-packages (from tensorboard<2.3.0,>=2.2.0->tensorflow->keras-crf) (1.8.1)\n",
            "Requirement already satisfied: google-auth<2,>=1.6.3 in /usr/local/lib/python3.7/dist-packages (from tensorboard<2.3.0,>=2.2.0->tensorflow->keras-crf) (1.35.0)\n",
            "Requirement already satisfied: setuptools>=41.0.0 in /usr/local/lib/python3.7/dist-packages (from tensorboard<2.3.0,>=2.2.0->tensorflow->keras-crf) (57.4.0)\n",
            "Requirement already satisfied: requests<3,>=2.21.0 in /usr/local/lib/python3.7/dist-packages (from tensorboard<2.3.0,>=2.2.0->tensorflow->keras-crf) (2.23.0)\n",
            "Requirement already satisfied: markdown>=2.6.8 in /usr/local/lib/python3.7/dist-packages (from tensorboard<2.3.0,>=2.2.0->tensorflow->keras-crf) (3.3.7)\n",
            "Requirement already satisfied: werkzeug>=0.11.15 in /usr/local/lib/python3.7/dist-packages (from tensorboard<2.3.0,>=2.2.0->tensorflow->keras-crf) (1.0.1)\n",
            "Requirement already satisfied: cachetools<5.0,>=2.0.0 in /usr/local/lib/python3.7/dist-packages (from google-auth<2,>=1.6.3->tensorboard<2.3.0,>=2.2.0->tensorflow->keras-crf) (4.2.4)\n",
            "Requirement already satisfied: pyasn1-modules>=0.2.1 in /usr/local/lib/python3.7/dist-packages (from google-auth<2,>=1.6.3->tensorboard<2.3.0,>=2.2.0->tensorflow->keras-crf) (0.2.8)\n",
            "Requirement already satisfied: rsa<5,>=3.1.4 in /usr/local/lib/python3.7/dist-packages (from google-auth<2,>=1.6.3->tensorboard<2.3.0,>=2.2.0->tensorflow->keras-crf) (4.8)\n",
            "Requirement already satisfied: requests-oauthlib>=0.7.0 in /usr/local/lib/python3.7/dist-packages (from google-auth-oauthlib<0.5,>=0.4.1->tensorboard<2.3.0,>=2.2.0->tensorflow->keras-crf) (1.3.1)\n",
            "Requirement already satisfied: importlib-metadata>=4.4 in /usr/local/lib/python3.7/dist-packages (from markdown>=2.6.8->tensorboard<2.3.0,>=2.2.0->tensorflow->keras-crf) (4.11.4)\n",
            "Requirement already satisfied: typing-extensions>=3.6.4 in /usr/local/lib/python3.7/dist-packages (from importlib-metadata>=4.4->markdown>=2.6.8->tensorboard<2.3.0,>=2.2.0->tensorflow->keras-crf) (4.2.0)\n",
            "Requirement already satisfied: zipp>=0.5 in /usr/local/lib/python3.7/dist-packages (from importlib-metadata>=4.4->markdown>=2.6.8->tensorboard<2.3.0,>=2.2.0->tensorflow->keras-crf) (3.8.0)\n",
            "Requirement already satisfied: pyasn1<0.5.0,>=0.4.6 in /usr/local/lib/python3.7/dist-packages (from pyasn1-modules>=0.2.1->google-auth<2,>=1.6.3->tensorboard<2.3.0,>=2.2.0->tensorflow->keras-crf) (0.4.8)\n",
            "Requirement already satisfied: certifi>=2017.4.17 in /usr/local/lib/python3.7/dist-packages (from requests<3,>=2.21.0->tensorboard<2.3.0,>=2.2.0->tensorflow->keras-crf) (2022.5.18.1)\n",
            "Requirement already satisfied: urllib3!=1.25.0,!=1.25.1,<1.26,>=1.21.1 in /usr/local/lib/python3.7/dist-packages (from requests<3,>=2.21.0->tensorboard<2.3.0,>=2.2.0->tensorflow->keras-crf) (1.24.3)\n",
            "Requirement already satisfied: idna<3,>=2.5 in /usr/local/lib/python3.7/dist-packages (from requests<3,>=2.21.0->tensorboard<2.3.0,>=2.2.0->tensorflow->keras-crf) (2.10)\n",
            "Requirement already satisfied: chardet<4,>=3.0.2 in /usr/local/lib/python3.7/dist-packages (from requests<3,>=2.21.0->tensorboard<2.3.0,>=2.2.0->tensorflow->keras-crf) (3.0.4)\n",
            "Requirement already satisfied: oauthlib>=3.0.0 in /usr/local/lib/python3.7/dist-packages (from requests-oauthlib>=0.7.0->google-auth-oauthlib<0.5,>=0.4.1->tensorboard<2.3.0,>=2.2.0->tensorflow->keras-crf) (3.2.0)\n",
            "Requirement already satisfied: packaging in /usr/local/lib/python3.7/dist-packages (from tensorflow-addons->keras-crf) (21.3)\n",
            "Requirement already satisfied: typeguard>=2.7 in /usr/local/lib/python3.7/dist-packages (from tensorflow-addons->keras-crf) (2.7.1)\n",
            "Requirement already satisfied: pyparsing!=3.0.5,>=2.0.2 in /usr/local/lib/python3.7/dist-packages (from packaging->tensorflow-addons->keras-crf) (3.0.9)\n"
          ]
        }
      ],
      "source": [
        "pip install keras-crf"
      ]
    },
    {
      "cell_type": "code",
      "execution_count": null,
      "metadata": {
        "id": "ihjOsahr0vi_"
      },
      "outputs": [],
      "source": [
        "import tensorflow as tf\n",
        "from keras import backend as K\n",
        "from keras.engine.base_layer import Layer, InputSpec\n",
        "\n",
        "try:\n",
        "    from tensorflow.contrib.crf import crf_decode\n",
        "except ImportError:\n",
        "    from tensorflow.python.framework import dtypes\n",
        "    from tensorflow.python.ops import array_ops, gen_array_ops, math_ops, rnn, rnn_cell\n",
        "\n",
        "\n",
        "    class CrfDecodeForwardRnnCell(rnn_cell.RNNCell):\n",
        "        \"\"\"Computes the forward decoding in a linear-chain CRF.\n",
        "        \"\"\"\n",
        "\n",
        "        def __init__(self, transition_params):\n",
        "            \"\"\"Initialize the CrfDecodeForwardRnnCell.\n",
        "            Args:\n",
        "              transition_params: A [num_tags, num_tags] matrix of binary\n",
        "                potentials. This matrix is expanded into a\n",
        "                [1, num_tags, num_tags] in preparation for the broadcast\n",
        "                summation occurring within the cell.\n",
        "            \"\"\"\n",
        "            self._transition_params = array_ops.expand_dims(transition_params, 0)\n",
        "            self._num_tags = transition_params.get_shape()[0].value\n",
        "\n",
        "        @property\n",
        "        def state_size(self):\n",
        "            return self._num_tags\n",
        "\n",
        "        @property\n",
        "        def output_size(self):\n",
        "            return self._num_tags\n",
        "\n",
        "        def __call__(self, inputs, state, scope=None):\n",
        "            \"\"\"Build the CrfDecodeForwardRnnCell.\n",
        "            Args:\n",
        "              inputs: A [batch_size, num_tags] matrix of unary potentials.\n",
        "              state: A [batch_size, num_tags] matrix containing the previous step's\n",
        "                    score values.\n",
        "              scope: Unused variable scope of this cell.\n",
        "            Returns:\n",
        "              backpointers: [batch_size, num_tags], containing backpointers.\n",
        "              new_state: [batch_size, num_tags], containing new score values.\n",
        "            \"\"\"\n",
        "            # For simplicity, in shape comments, denote:\n",
        "            # 'batch_size' by 'B', 'max_seq_len' by 'T' , 'num_tags' by 'O' (output).\n",
        "            state = array_ops.expand_dims(state, 2)  # [B, O, 1]\n",
        "\n",
        "            # This addition op broadcasts self._transitions_params along the zeroth\n",
        "            # dimension and state along the second dimension.\n",
        "            # [B, O, 1] + [1, O, O] -> [B, O, O]\n",
        "            transition_scores = state + self._transition_params  # [B, O, O]\n",
        "            new_state = inputs + math_ops.reduce_max(transition_scores, [1])  # [B, O]\n",
        "            backpointers = math_ops.argmax(transition_scores, 1)\n",
        "            backpointers = math_ops.cast(backpointers, dtype=dtypes.int32)  # [B, O]\n",
        "            return backpointers, new_state\n",
        "\n",
        "\n",
        "    class CrfDecodeBackwardRnnCell(rnn_cell.RNNCell):\n",
        "        \"\"\"Computes backward decoding in a linear-chain CRF.\n",
        "        \"\"\"\n",
        "\n",
        "        def __init__(self, num_tags):\n",
        "            \"\"\"Initialize the CrfDecodeBackwardRnnCell.\n",
        "            Args:\n",
        "              num_tags\n",
        "            \"\"\"\n",
        "            self._num_tags = num_tags\n",
        "\n",
        "        @property\n",
        "        def state_size(self):\n",
        "            return 1\n",
        "\n",
        "        @property\n",
        "        def output_size(self):\n",
        "            return 1\n",
        "\n",
        "        def __call__(self, inputs, state, scope=None):\n",
        "            \"\"\"Build the CrfDecodeBackwardRnnCell.\n",
        "            Args:\n",
        "              inputs: [batch_size, num_tags], backpointer of next step (in time order).\n",
        "              state: [batch_size, 1], next position's tag index.\n",
        "              scope: Unused variable scope of this cell.\n",
        "            Returns:\n",
        "              new_tags, new_tags: A pair of [batch_size, num_tags]\n",
        "                tensors containing the new tag indices.\n",
        "            \"\"\"\n",
        "            state = array_ops.squeeze(state, axis=[1])  # [B]\n",
        "            batch_size = array_ops.shape(inputs)[0]\n",
        "            b_indices = math_ops.range(batch_size)  # [B]\n",
        "            indices = array_ops.stack([b_indices, state], axis=1)  # [B, 2]\n",
        "            new_tags = array_ops.expand_dims(\n",
        "                gen_array_ops.gather_nd(inputs, indices),  # [B]\n",
        "                axis=-1)  # [B, 1]\n",
        "\n",
        "            return new_tags, new_tags\n",
        "\n",
        "\n",
        "    def crf_decode(potentials, transition_params, sequence_length):\n",
        "        \"\"\"Decode the highest scoring sequence of tags in TensorFlow.\n",
        "        This is a function for tensor.\n",
        "        Args:\n",
        "        potentials: A [batch_size, max_seq_len, num_tags] tensor, matrix of\n",
        "                  unary potentials.\n",
        "        transition_params: A [num_tags, num_tags] tensor, matrix of\n",
        "                  binary potentials.\n",
        "        sequence_length: A [batch_size] tensor, containing sequence lengths.\n",
        "        Returns:\n",
        "        decode_tags: A [batch_size, max_seq_len] tensor, with dtype tf.int32.\n",
        "                    Contains the highest scoring tag indicies.\n",
        "        best_score: A [batch_size] tensor, containing the score of decode_tags.\n",
        "        \"\"\"\n",
        "        # For simplicity, in shape comments, denote:\n",
        "        # 'batch_size' by 'B', 'max_seq_len' by 'T' , 'num_tags' by 'O' (output).\n",
        "        num_tags = potentials.get_shape()[2].value\n",
        "\n",
        "        # Computes forward decoding. Get last score and backpointers.\n",
        "        crf_fwd_cell = CrfDecodeForwardRnnCell(transition_params)\n",
        "        initial_state = array_ops.slice(potentials, [0, 0, 0], [-1, 1, -1])\n",
        "        initial_state = array_ops.squeeze(initial_state, axis=[1])  # [B, O]\n",
        "        inputs = array_ops.slice(potentials, [0, 1, 0], [-1, -1, -1])  # [B, T-1, O]\n",
        "        backpointers, last_score = rnn.dynamic_rnn(\n",
        "            crf_fwd_cell,\n",
        "            inputs=inputs,\n",
        "            sequence_length=sequence_length - 1,\n",
        "            initial_state=initial_state,\n",
        "            time_major=False,\n",
        "            dtype=dtypes.int32)  # [B, T - 1, O], [B, O]\n",
        "        backpointers = gen_array_ops.reverse_sequence(backpointers, sequence_length - 1, seq_dim=1)  # [B, T-1, O]\n",
        "\n",
        "        # Computes backward decoding. Extract tag indices from backpointers.\n",
        "        crf_bwd_cell = CrfDecodeBackwardRnnCell(num_tags)\n",
        "        initial_state = math_ops.cast(math_ops.argmax(last_score, axis=1), dtype=dtypes.int32)  # [B]\n",
        "        initial_state = array_ops.expand_dims(initial_state, axis=-1)  # [B, 1]\n",
        "        decode_tags, _ = rnn.dynamic_rnn(\n",
        "            crf_bwd_cell,\n",
        "            inputs=backpointers,\n",
        "            sequence_length=sequence_length - 1,\n",
        "            initial_state=initial_state,\n",
        "            time_major=False,\n",
        "            dtype=dtypes.int32)  # [B, T - 1, 1]\n",
        "        decode_tags = array_ops.squeeze(decode_tags, axis=[2])  # [B, T - 1]\n",
        "        decode_tags = array_ops.concat([initial_state, decode_tags], axis=1)  # [B, T]\n",
        "        decode_tags = gen_array_ops.reverse_sequence(decode_tags, sequence_length, seq_dim=1)  # [B, T]\n",
        "\n",
        "        best_score = math_ops.reduce_max(last_score, axis=1)  # [B]\n",
        "        return decode_tags, best_score\n",
        "\n",
        "\n",
        "class CRFLayer(Layer):\n",
        "\n",
        "    def __init__(self, transition_params=None, **kwargs):\n",
        "        super(CRFLayer, self).__init__(**kwargs)\n",
        "        self.transition_params = transition_params\n",
        "        self.input_spec = [InputSpec(ndim=3), InputSpec(ndim=2)]\n",
        "        self.supports_masking = True\n",
        "\n",
        "    def compute_output_shape(self, input_shape):\n",
        "        assert input_shape and len(input_shape[0]) == 3\n",
        "\n",
        "        return input_shape[0]\n",
        "\n",
        "    def build(self, input_shape):\n",
        "        \"\"\"Creates the layer weights.\n",
        "\n",
        "        Args:\n",
        "            input_shape (list(tuple, tuple)): [(batch_size, n_steps, n_classes), (batch_size, 1)]\n",
        "        \"\"\"\n",
        "        assert len(input_shape) == 2\n",
        "        assert len(input_shape[0]) == 3\n",
        "        assert len(input_shape[1]) == 2\n",
        "        n_steps = input_shape[0][1]\n",
        "        n_classes = input_shape[0][2]\n",
        "        assert n_steps is None or n_steps >= 2\n",
        "\n",
        "        self.transition_params = self.add_weight(shape=(n_classes, n_classes),\n",
        "                                                 initializer='uniform',\n",
        "                                                 name='transition')\n",
        "        self.input_spec = [InputSpec(dtype=K.floatx(), shape=(None, n_steps, n_classes)),\n",
        "                           InputSpec(dtype='int32', shape=(None, 1))]\n",
        "        self.built = True\n",
        "\n",
        "    def viterbi_decode(self, potentials, sequence_length):\n",
        "        \"\"\"Decode the highest scoring sequence of tags in TensorFlow.\n",
        "\n",
        "        This is a function for tensor.\n",
        "\n",
        "        Args:\n",
        "            potentials: A [batch_size, max_seq_len, num_tags] tensor, matrix of unary potentials.\n",
        "            sequence_length: A [batch_size] tensor, containing sequence lengths.\n",
        "\n",
        "        Returns:\n",
        "            decode_tags: A [batch_size, max_seq_len] tensor, with dtype tf.int32.\n",
        "                         Contains the highest scoring tag indicies.\n",
        "        \"\"\"\n",
        "        decode_tags, best_score = crf_decode(potentials, self.transition_params, sequence_length)\n",
        "\n",
        "        return decode_tags\n",
        "\n",
        "    def call(self, inputs, mask=None, **kwargs):\n",
        "        inputs, sequence_lengths = inputs\n",
        "        self.sequence_lengths = K.flatten(sequence_lengths)\n",
        "        y_pred = self.viterbi_decode(inputs, self.sequence_lengths)\n",
        "        nb_classes = self.input_spec[0].shape[2]\n",
        "        y_pred_one_hot = K.one_hot(y_pred, nb_classes)\n",
        "\n",
        "        return K.in_train_phase(inputs, y_pred_one_hot)\n",
        "\n",
        "    def loss(self, y_true, y_pred):\n",
        "        \"\"\"Computes the log-likelihood of tag sequences in a CRF.\n",
        "\n",
        "        Args:\n",
        "            y_true : A (batch_size, n_steps, n_classes) tensor.\n",
        "            y_pred : A (batch_size, n_steps, n_classes) tensor.\n",
        "\n",
        "        Returns:\n",
        "            loss: A scalar containing the log-likelihood of the given sequence of tag indices.\n",
        "        \"\"\"\n",
        "        y_true = K.cast(K.argmax(y_true, axis=-1), dtype='int32')\n",
        "        log_likelihood, self.transition_params = tf.contrib.crf.crf_log_likelihood(\n",
        "            y_pred, y_true, self.sequence_lengths, self.transition_params)\n",
        "        loss = tf.reduce_mean(-log_likelihood)\n",
        "\n",
        "        return loss\n",
        "\n",
        "    def get_config(self):\n",
        "        config = {\n",
        "            'transition_params': K.eval(self.transition_params),\n",
        "        }\n",
        "        base_config = super(CRFLayer, self).get_config()\n",
        "\n",
        "        return dict(list(base_config.items()) + list(config.items()))\n",
        "\n",
        "\n",
        "def create_custom_objects():\n",
        "    \"\"\"Returns the custom objects, needed for loading a persisted model.\"\"\"\n",
        "    instanceHolder = {'instance': None}\n",
        "\n",
        "    class ClassWrapper(CRFLayer):\n",
        "        def __init__(self, *args, **kwargs):\n",
        "            instanceHolder['instance'] = self\n",
        "            super(ClassWrapper, self).__init__(*args, **kwargs)\n",
        "\n",
        "    def loss(*args):\n",
        "        method = getattr(instanceHolder['instance'], 'loss')\n",
        "        return method(*args)\n",
        "\n",
        "    return {'CRFLayer': ClassWrapper, 'loss': loss}\n"
      ]
    },
    {
      "cell_type": "code",
      "execution_count": null,
      "metadata": {
        "id": "WluqEUUfm350"
      },
      "outputs": [],
      "source": [
        "# from crf import CRFLayer, create_custom_objects\n",
        "from keras_contrib.layers import CRF\n",
        "from sklearn.model_selection import train_test_split\n",
        "from sklearn.utils import shuffle\n",
        "from keras import backend as K\n",
        "from keras_contrib.layers import CRF\n",
        "import matplotlib.pyplot as plt\n",
        "from keras.callbacks import EarlyStopping, ModelCheckpoint\n",
        "import pandas as pd"
      ]
    },
    {
      "cell_type": "code",
      "execution_count": null,
      "metadata": {
        "id": "BKLrrDLboAn9"
      },
      "outputs": [],
      "source": [
        "# PARAMETERS ================\n",
        "MAX_SEQUENCE_LENGTH = train_max_len #Calculated for this dataset\n",
        "EMBEDDING_DIM = 300 #Fasttext hindi embeddigns\n",
        "TEST_SPLIT = 0.2\n",
        "VALIDATION_SPLIT = 0.2\n",
        "BATCH_SIZE = 32\n",
        "MODEL_TYPE = 3\n",
        "#MODEL TYPE 1 = Bi-Lstm\n",
        "#MODEL TYPE 2 = Bi-Lstm + CRF\n",
        "dropout = 0.5\n",
        "epochs = 100"
      ]
    },
    {
      "cell_type": "code",
      "execution_count": null,
      "metadata": {
        "id": "k4KNnfhJ20wA"
      },
      "outputs": [],
      "source": [
        "# with open('/content/drive/MyDrive/BiLSTM_PosTag/PickledData/data.pkl', 'rb') as f:\n",
        "#     X, y, word2int, int2word, tag2int, int2tag = pickle.load(f)"
      ]
    },
    {
      "cell_type": "code",
      "execution_count": null,
      "metadata": {
        "id": "w2kGm-vk28Lk"
      },
      "outputs": [],
      "source": [
        "def generator(all_X, all_y, n_classes, batch_size=BATCH_SIZE):\n",
        "    num_samples = len(all_X)\n",
        "\n",
        "    while True:\n",
        "\n",
        "        for offset in range(0, num_samples, batch_size):\n",
        "            \n",
        "            X = all_X[offset:offset+batch_size]\n",
        "            #S = np.asarray([MAX_SEQUENCE_LENGTH] * batch_size, dtype='int32')\n",
        "            y = all_y[offset:offset+batch_size]\n",
        "\n",
        "            y = to_categorical(y, num_classes=n_classes)\n",
        "\n",
        "\n",
        "            yield shuffle(X, y)\n",
        "\n",
        "def ignore_class_accuracy(to_ignore=0):\n",
        "    def ignore_accuracy(y_true, y_pred):\n",
        "        y_true_class = K.argmax(y_true, axis=-1)\n",
        "        y_pred_class = K.argmax(y_pred, axis=-1)\n",
        " \n",
        "        ignore_mask = K.cast(K.not_equal(y_pred_class, to_ignore), 'int32')\n",
        "        matches = K.cast(K.equal(y_true_class, y_pred_class), 'int32') * ignore_mask\n",
        "        accuracy = K.sum(matches) / K.maximum(K.sum(ignore_mask), 1)\n",
        "        return accuracy\n",
        "    return ignore_accuracy"
      ]
    },
    {
      "cell_type": "code",
      "execution_count": null,
      "metadata": {
        "colab": {
          "base_uri": "https://localhost:8080/"
        },
        "id": "Pb3U-Ogd3A2C",
        "outputId": "666f6af6-ea84-4160-ef68-93b3a7b96d8b"
      },
      "outputs": [
        {
          "output_type": "stream",
          "name": "stdout",
          "text": [
            "TOTAL TAGS 26\n",
            "TOTAL WORDS 19234\n"
          ]
        }
      ],
      "source": [
        "n_tags = len(tag2int)\n",
        "\n",
        "X = pad_sequences(X_train_numberised, maxlen=MAX_SEQUENCE_LENGTH)\n",
        "y = pad_sequences(Y_train_numberised, maxlen=MAX_SEQUENCE_LENGTH)\n",
        "\n",
        "print('TOTAL TAGS', len(tag2int))\n",
        "print('TOTAL WORDS', len(word2int))\n"
      ]
    },
    {
      "cell_type": "code",
      "source": [
        "MAX_SEQUENCE_LENGTH"
      ],
      "metadata": {
        "colab": {
          "base_uri": "https://localhost:8080/"
        },
        "id": "ja2K8ruCa29i",
        "outputId": "f0f13d49-8be4-46c0-e62b-c01e41dba521"
      },
      "execution_count": null,
      "outputs": [
        {
          "output_type": "execute_result",
          "data": {
            "text/plain": [
              "116"
            ]
          },
          "metadata": {},
          "execution_count": 139
        }
      ]
    },
    {
      "cell_type": "code",
      "source": [
        "X_test = pad_sequences(X_test_numberised, maxlen=MAX_SEQUENCE_LENGTH)"
      ],
      "metadata": {
        "id": "pzjfZHC9LdGn"
      },
      "execution_count": null,
      "outputs": []
    },
    {
      "cell_type": "code",
      "source": [
        "# shuffle the data\n",
        "X, y = shuffle(X, y)\n",
        "\n",
        "# split data into train and test\n",
        "# X_train, X_test, y_train, y_test = train_test_split(X, y, test_size=TEST_SPLIT,random_state=42)\n",
        "\n",
        "# split training data into train and validation\n",
        "X_train, X_val, y_train, y_val = train_test_split(X, y, test_size=VALIDATION_SPLIT, random_state=42)"
      ],
      "metadata": {
        "id": "TN3O5wW8LdN-"
      },
      "execution_count": null,
      "outputs": []
    },
    {
      "cell_type": "code",
      "source": [
        "X_test_copy=X_test.copy()"
      ],
      "metadata": {
        "id": "jxSHHnzqBeOU"
      },
      "execution_count": null,
      "outputs": []
    },
    {
      "cell_type": "code",
      "source": [
        "Y_test_copy=Y_test.copy()"
      ],
      "metadata": {
        "id": "a8i8TZrDIGMI"
      },
      "execution_count": null,
      "outputs": []
    },
    {
      "cell_type": "code",
      "execution_count": null,
      "metadata": {
        "colab": {
          "base_uri": "https://localhost:8080/"
        },
        "id": "1r4IGziO3G00",
        "outputId": "ae1e0ecf-26da-47d3-8c67-f6764c62598b"
      },
      "outputs": [
        {
          "output_type": "stream",
          "name": "stdout",
          "text": [
            "We have 11970 TRAINING samples\n",
            "We have 2993 VALIDATION samples\n",
            "We have 1684 TEST samples\n"
          ]
        }
      ],
      "source": [
        "n_train_samples = X_train.shape[0]\n",
        "n_val_samples = X_val.shape[0]\n",
        "n_test_samples = X_test.shape[0]\n",
        "\n",
        "print('We have %d TRAINING samples' % n_train_samples)\n",
        "print('We have %d VALIDATION samples' % n_val_samples)\n",
        "print('We have %d TEST samples' % n_test_samples)\n"
      ]
    },
    {
      "cell_type": "code",
      "execution_count": null,
      "metadata": {
        "id": "ZsTpYAV43JRe"
      },
      "outputs": [],
      "source": [
        "# make generators for training and validation\n",
        "train_generator = generator(all_X=X_train, all_y=y_train, n_classes=n_tags + 1)\n",
        "validation_generator = generator(all_X=X_val, all_y=y_val, n_classes=n_tags + 1)\n"
      ]
    },
    {
      "cell_type": "code",
      "execution_count": null,
      "metadata": {
        "id": "mDGHFBRw3Mye"
      },
      "outputs": [],
      "source": [
        "with open('/content/drive/MyDrive/BiLSTM_HI_NER/PickledData/Glove.pkl', 'rb') as f:\n",
        "\tembeddings_index = pickle.load(f)"
      ]
    },
    {
      "cell_type": "code",
      "execution_count": null,
      "metadata": {
        "colab": {
          "base_uri": "https://localhost:8080/"
        },
        "id": "7vkD4T9S4UEG",
        "outputId": "e2696f3a-b719-43cd-bc05-e9b58990a334"
      },
      "outputs": [
        {
          "output_type": "stream",
          "name": "stdout",
          "text": [
            "Total 30395 word vectors.\n"
          ]
        }
      ],
      "source": [
        "\n",
        "print('Total %s word vectors.' % len(embeddings_index))\n",
        "\n",
        "# + 1 to include the unkown word\n",
        "embedding_matrix = np.random.random((len(word2int) + 1, EMBEDDING_DIM))"
      ]
    },
    {
      "cell_type": "code",
      "execution_count": null,
      "metadata": {
        "id": "bNyyyqx94ZZ5"
      },
      "outputs": [],
      "source": [
        "for word, i in word2int.items():\n",
        "    embedding_vector = embeddings_index.get(word)\n",
        "    if embedding_vector is not None:\n",
        "        # words not found in embeddings_index will remain unchanged and thus will be random.\n",
        "        embedding_matrix[i] = embedding_vector"
      ]
    },
    {
      "cell_type": "code",
      "execution_count": null,
      "metadata": {
        "colab": {
          "base_uri": "https://localhost:8080/"
        },
        "id": "_ByXMhQy4b6o",
        "outputId": "38305dd5-fb0a-42e7-e109-ac611481bad8"
      },
      "outputs": [
        {
          "output_type": "stream",
          "name": "stdout",
          "text": [
            "Embedding matrix shape (19235, 300)\n",
            "X_train shape (11970, 116)\n"
          ]
        }
      ],
      "source": [
        "\n",
        "print('Embedding matrix shape', embedding_matrix.shape)\n",
        "print('X_train shape', X_train.shape)\n"
      ]
    },
    {
      "cell_type": "code",
      "execution_count": null,
      "metadata": {
        "id": "8cUxBQ5W4eNY"
      },
      "outputs": [],
      "source": [
        "embedding_layer = Embedding(len(word2int) + 1,\n",
        "                            EMBEDDING_DIM,\n",
        "                            weights=[embedding_matrix],\n",
        "                            input_length=MAX_SEQUENCE_LENGTH,\n",
        "                            trainable=True)"
      ]
    },
    {
      "cell_type": "code",
      "execution_count": null,
      "metadata": {
        "id": "DQNB87Oz4gzY"
      },
      "outputs": [],
      "source": [
        "sequence_input = Input(shape=(MAX_SEQUENCE_LENGTH,), dtype='int32')\n",
        "embedded_sequences = embedding_layer(sequence_input)"
      ]
    },
    {
      "cell_type": "code",
      "execution_count": null,
      "metadata": {
        "id": "uhe4dyjG4i50"
      },
      "outputs": [],
      "source": [
        "# # Bi-Lstm \n",
        "# if(MODEL_TYPE == 1):\n",
        "#   l_lstm = Bidirectional(LSTM(64, return_sequences=True, recurrent_dropout=0.1))(embedded_sequences)\n",
        "#   preds = TimeDistributed(Dense(n_tags + 1, activation='softmax'))(l_lstm)\n",
        "#   model = Model(sequence_input, preds)\n",
        "#   model.compile(loss='categorical_crossentropy',\n",
        "#                 optimizer=Adam(0.001),\n",
        "#                 metrics=['accuracy', ignore_class_accuracy(0)])\n",
        "#   print(\"model fitting - Bidirectional LSTM\")"
      ]
    },
    {
      "cell_type": "code",
      "execution_count": null,
      "metadata": {
        "id": "RLsBdKb04lOe"
      },
      "outputs": [],
      "source": [
        "# Bi-Lstm + CRF\n",
        "if(MODEL_TYPE == 2):\n",
        "  l_lstm = Bidirectional(LSTM(512, return_sequences=True, recurrent_dropout=0.5))(embedded_sequences)\n",
        "  model = TimeDistributed(Dense(50, activation='relu'))(l_lstm)\n",
        "  crf = CRF(n_tags+1)  # CRF layer\n",
        "  preds = crf(model)  # output\n",
        "  model = Model(sequence_input, preds)\n",
        "\n",
        "  model.compile(loss=crf.loss_function,\n",
        "                optimizer=Adam(0.001),\n",
        "                metrics=[crf.accuracy,tf.keras.metrics.Precision(),tf.keras.metrics.Recall()])\n",
        "  print(\"model fitting - Bidirectional LSTM +CRF\")"
      ]
    },
    {
      "cell_type": "code",
      "source": [
        "import keras\n",
        "from keras_self_attention import SeqSelfAttention"
      ],
      "metadata": {
        "id": "8t1RWjvv4bh0"
      },
      "execution_count": null,
      "outputs": []
    },
    {
      "cell_type": "code",
      "source": [
        "class attention(Layer):\n",
        "    def __init__(self, return_sequences=True):\n",
        "        self.return_sequences = return_sequences\n",
        "        super(attention,self).__init__()\n",
        " \n",
        "    def build(self, input_shape):\n",
        "        \n",
        "        self.W=self.add_weight(name=\"att_weight\", shape=(input_shape[-1],1),\n",
        "                               initializer=\"normal\")\n",
        "        self.b=self.add_weight(name=\"att_bias\", shape=(input_shape[1],1),\n",
        "                               initializer=\"zeros\")\n",
        "        \n",
        "        super(attention,self).build(input_shape)\n",
        "        \n",
        "    def call(self, x):\n",
        "        \n",
        "        e = K.tanh(K.dot(x,self.W)+self.b)\n",
        "        a = K.softmax(e, axis=1)\n",
        "        output = x*a\n",
        "        \n",
        "        if self.return_sequences:\n",
        "            return output\n",
        "        \n",
        "        return K.sum(output, axis=1)"
      ],
      "metadata": {
        "id": "MuwIYhjR5AvT"
      },
      "execution_count": null,
      "outputs": []
    },
    {
      "cell_type": "code",
      "source": [
        "# Bi-Lstm + CRF\n",
        "if(MODEL_TYPE == 3):\n",
        "  l_lstm = Bidirectional(LSTM(512, return_sequences=True, recurrent_dropout=0.5))(embedded_sequences)\n",
        "  seq = attention(return_sequences=True)(l_lstm)\n",
        "  l_lstm = Bidirectional(LSTM(512, return_sequences=True, recurrent_dropout=0.5))(seq)\n",
        "  model = TimeDistributed(Dense(50, activation='relu'))(l_lstm)\n",
        "  crf = CRF(n_tags+1)  # CRF layer\n",
        "  preds = crf(model)  # output\n",
        "  model = Model(sequence_input, preds)\n",
        "\n",
        "  model.compile(loss=crf.loss_function,\n",
        "                optimizer=Adam(0.001),\n",
        "                metrics=[crf.accuracy,tf.keras.metrics.Precision(),tf.keras.metrics.Recall(),ignore_class_accuracy(0)])\n",
        "  print(\"model fitting - Bidirectional_ATTN_LSTM +CRF\")\n",
        "  \n",
        "  model.summary()"
      ],
      "metadata": {
        "colab": {
          "base_uri": "https://localhost:8080/"
        },
        "id": "k8Y2LJsyzbIh",
        "outputId": "fb056fa4-5c58-488f-eea8-8fb9b5a000b5"
      },
      "execution_count": null,
      "outputs": [
        {
          "output_type": "stream",
          "name": "stderr",
          "text": [
            "/usr/local/lib/python3.7/dist-packages/keras_contrib/layers/crf.py:346: UserWarning: CRF.loss_function is deprecated and it might be removed in the future. Please use losses.crf_loss instead.\n",
            "  warnings.warn('CRF.loss_function is deprecated '\n",
            "/usr/local/lib/python3.7/dist-packages/keras_contrib/layers/crf.py:353: UserWarning: CRF.accuracy is deprecated and it might be removed in the future. Please use metrics.crf_accuracy\n",
            "  warnings.warn('CRF.accuracy is deprecated and it '\n"
          ]
        },
        {
          "output_type": "stream",
          "name": "stdout",
          "text": [
            "model fitting - Bidirectional_ATTN_LSTM +CRF\n",
            "Model: \"model_4\"\n",
            "_________________________________________________________________\n",
            "Layer (type)                 Output Shape              Param #   \n",
            "=================================================================\n",
            "input_5 (InputLayer)         (None, 116)               0         \n",
            "_________________________________________________________________\n",
            "embedding_6 (Embedding)      (None, 116, 300)          5770500   \n",
            "_________________________________________________________________\n",
            "bidirectional_17 (Bidirectio (None, 116, 1024)         3330048   \n",
            "_________________________________________________________________\n",
            "attention_7 (attention)      (None, 116, 1024)         1140      \n",
            "_________________________________________________________________\n",
            "bidirectional_18 (Bidirectio (None, 116, 1024)         6295552   \n",
            "_________________________________________________________________\n",
            "time_distributed_5 (TimeDist (None, 116, 50)           51250     \n",
            "_________________________________________________________________\n",
            "crf_4 (CRF)                  (None, 116, 27)           2160      \n",
            "=================================================================\n",
            "Total params: 15,450,650\n",
            "Trainable params: 15,450,650\n",
            "Non-trainable params: 0\n",
            "_________________________________________________________________\n"
          ]
        }
      ]
    },
    {
      "cell_type": "code",
      "source": [
        "from keras.engine.topology import Layer\n",
        "from keras import initializers, regularizers, constraints\n",
        "from keras.engine.input_layer import Input\n",
        "from keras import backend as K\n",
        "from keras.models import Model\n"
      ],
      "metadata": {
        "id": "2HUSa5xu7HX0"
      },
      "execution_count": null,
      "outputs": []
    },
    {
      "cell_type": "code",
      "execution_count": null,
      "metadata": {
        "id": "qiiGL_vl4nuJ"
      },
      "outputs": [],
      "source": [
        "callbacks = [EarlyStopping(monitor='val_loss', patience=5),\n",
        "             ModelCheckpoint(filepath='best_model.h5', monitor='val_loss', save_best_only=True)]"
      ]
    },
    {
      "cell_type": "code",
      "execution_count": null,
      "metadata": {
        "colab": {
          "base_uri": "https://localhost:8080/",
          "height": 417
        },
        "id": "nY53szSN4sMa",
        "outputId": "c44e4e8c-6b92-4250-a7f1-d5620c02fd5e"
      },
      "outputs": [
        {
          "output_type": "stream",
          "name": "stdout",
          "text": [
            "Epoch 1/100\n",
            " 11/374 [..............................] - ETA: 1:12:16 - loss: 1.5203 - crf_viterbi_accuracy: 0.6975 - precision_3: 0.0000e+00 - recall_3: 0.0000e+00 - ignore_accuracy: 0.0000e+00"
          ]
        },
        {
          "output_type": "error",
          "ename": "KeyboardInterrupt",
          "evalue": "ignored",
          "traceback": [
            "\u001b[0;31m---------------------------------------------------------------------------\u001b[0m",
            "\u001b[0;31mKeyboardInterrupt\u001b[0m                         Traceback (most recent call last)",
            "\u001b[0;32m<ipython-input-167-73f641519e02>\u001b[0m in \u001b[0;36m<module>\u001b[0;34m()\u001b[0m\n\u001b[1;32m      5\u001b[0m                      \u001b[0mepochs\u001b[0m\u001b[0;34m=\u001b[0m\u001b[0mepochs\u001b[0m\u001b[0;34m,\u001b[0m\u001b[0;34m\u001b[0m\u001b[0;34m\u001b[0m\u001b[0m\n\u001b[1;32m      6\u001b[0m                      \u001b[0mcallbacks\u001b[0m\u001b[0;34m=\u001b[0m\u001b[0mcallbacks\u001b[0m\u001b[0;34m,\u001b[0m\u001b[0;34m\u001b[0m\u001b[0;34m\u001b[0m\u001b[0m\n\u001b[0;32m----> 7\u001b[0;31m                      verbose=1)\n\u001b[0m",
            "\u001b[0;32m/usr/local/lib/python3.7/dist-packages/keras/legacy/interfaces.py\u001b[0m in \u001b[0;36mwrapper\u001b[0;34m(*args, **kwargs)\u001b[0m\n\u001b[1;32m     89\u001b[0m                 warnings.warn('Update your `' + object_name + '` call to the ' +\n\u001b[1;32m     90\u001b[0m                               'Keras 2 API: ' + signature, stacklevel=2)\n\u001b[0;32m---> 91\u001b[0;31m             \u001b[0;32mreturn\u001b[0m \u001b[0mfunc\u001b[0m\u001b[0;34m(\u001b[0m\u001b[0;34m*\u001b[0m\u001b[0margs\u001b[0m\u001b[0;34m,\u001b[0m \u001b[0;34m**\u001b[0m\u001b[0mkwargs\u001b[0m\u001b[0;34m)\u001b[0m\u001b[0;34m\u001b[0m\u001b[0;34m\u001b[0m\u001b[0m\n\u001b[0m\u001b[1;32m     92\u001b[0m         \u001b[0mwrapper\u001b[0m\u001b[0;34m.\u001b[0m\u001b[0m_original_function\u001b[0m \u001b[0;34m=\u001b[0m \u001b[0mfunc\u001b[0m\u001b[0;34m\u001b[0m\u001b[0;34m\u001b[0m\u001b[0m\n\u001b[1;32m     93\u001b[0m         \u001b[0;32mreturn\u001b[0m \u001b[0mwrapper\u001b[0m\u001b[0;34m\u001b[0m\u001b[0;34m\u001b[0m\u001b[0m\n",
            "\u001b[0;32m/usr/local/lib/python3.7/dist-packages/keras/engine/training.py\u001b[0m in \u001b[0;36mfit_generator\u001b[0;34m(self, generator, steps_per_epoch, epochs, verbose, callbacks, validation_data, validation_steps, validation_freq, class_weight, max_queue_size, workers, use_multiprocessing, shuffle, initial_epoch)\u001b[0m\n\u001b[1;32m   1730\u001b[0m             \u001b[0muse_multiprocessing\u001b[0m\u001b[0;34m=\u001b[0m\u001b[0muse_multiprocessing\u001b[0m\u001b[0;34m,\u001b[0m\u001b[0;34m\u001b[0m\u001b[0;34m\u001b[0m\u001b[0m\n\u001b[1;32m   1731\u001b[0m             \u001b[0mshuffle\u001b[0m\u001b[0;34m=\u001b[0m\u001b[0mshuffle\u001b[0m\u001b[0;34m,\u001b[0m\u001b[0;34m\u001b[0m\u001b[0;34m\u001b[0m\u001b[0m\n\u001b[0;32m-> 1732\u001b[0;31m             initial_epoch=initial_epoch)\n\u001b[0m\u001b[1;32m   1733\u001b[0m \u001b[0;34m\u001b[0m\u001b[0m\n\u001b[1;32m   1734\u001b[0m     \u001b[0;34m@\u001b[0m\u001b[0minterfaces\u001b[0m\u001b[0;34m.\u001b[0m\u001b[0mlegacy_generator_methods_support\u001b[0m\u001b[0;34m\u001b[0m\u001b[0;34m\u001b[0m\u001b[0m\n",
            "\u001b[0;32m/usr/local/lib/python3.7/dist-packages/keras/engine/training_generator.py\u001b[0m in \u001b[0;36mfit_generator\u001b[0;34m(model, generator, steps_per_epoch, epochs, verbose, callbacks, validation_data, validation_steps, validation_freq, class_weight, max_queue_size, workers, use_multiprocessing, shuffle, initial_epoch)\u001b[0m\n\u001b[1;32m    218\u001b[0m                                             \u001b[0msample_weight\u001b[0m\u001b[0;34m=\u001b[0m\u001b[0msample_weight\u001b[0m\u001b[0;34m,\u001b[0m\u001b[0;34m\u001b[0m\u001b[0;34m\u001b[0m\u001b[0m\n\u001b[1;32m    219\u001b[0m                                             \u001b[0mclass_weight\u001b[0m\u001b[0;34m=\u001b[0m\u001b[0mclass_weight\u001b[0m\u001b[0;34m,\u001b[0m\u001b[0;34m\u001b[0m\u001b[0;34m\u001b[0m\u001b[0m\n\u001b[0;32m--> 220\u001b[0;31m                                             reset_metrics=False)\n\u001b[0m\u001b[1;32m    221\u001b[0m \u001b[0;34m\u001b[0m\u001b[0m\n\u001b[1;32m    222\u001b[0m                 \u001b[0mouts\u001b[0m \u001b[0;34m=\u001b[0m \u001b[0mto_list\u001b[0m\u001b[0;34m(\u001b[0m\u001b[0mouts\u001b[0m\u001b[0;34m)\u001b[0m\u001b[0;34m\u001b[0m\u001b[0;34m\u001b[0m\u001b[0m\n",
            "\u001b[0;32m/usr/local/lib/python3.7/dist-packages/keras/engine/training.py\u001b[0m in \u001b[0;36mtrain_on_batch\u001b[0;34m(self, x, y, sample_weight, class_weight, reset_metrics)\u001b[0m\n\u001b[1;32m   1512\u001b[0m             \u001b[0mins\u001b[0m \u001b[0;34m=\u001b[0m \u001b[0mx\u001b[0m \u001b[0;34m+\u001b[0m \u001b[0my\u001b[0m \u001b[0;34m+\u001b[0m \u001b[0msample_weights\u001b[0m\u001b[0;34m\u001b[0m\u001b[0;34m\u001b[0m\u001b[0m\n\u001b[1;32m   1513\u001b[0m         \u001b[0mself\u001b[0m\u001b[0;34m.\u001b[0m\u001b[0m_make_train_function\u001b[0m\u001b[0;34m(\u001b[0m\u001b[0;34m)\u001b[0m\u001b[0;34m\u001b[0m\u001b[0;34m\u001b[0m\u001b[0m\n\u001b[0;32m-> 1514\u001b[0;31m         \u001b[0moutputs\u001b[0m \u001b[0;34m=\u001b[0m \u001b[0mself\u001b[0m\u001b[0;34m.\u001b[0m\u001b[0mtrain_function\u001b[0m\u001b[0;34m(\u001b[0m\u001b[0mins\u001b[0m\u001b[0;34m)\u001b[0m\u001b[0;34m\u001b[0m\u001b[0;34m\u001b[0m\u001b[0m\n\u001b[0m\u001b[1;32m   1515\u001b[0m \u001b[0;34m\u001b[0m\u001b[0m\n\u001b[1;32m   1516\u001b[0m         \u001b[0;32mif\u001b[0m \u001b[0mreset_metrics\u001b[0m\u001b[0;34m:\u001b[0m\u001b[0;34m\u001b[0m\u001b[0;34m\u001b[0m\u001b[0m\n",
            "\u001b[0;32m/usr/local/lib/python3.7/dist-packages/tensorflow/python/keras/backend.py\u001b[0m in \u001b[0;36m__call__\u001b[0;34m(self, inputs)\u001b[0m\n\u001b[1;32m   3790\u001b[0m         \u001b[0mvalue\u001b[0m \u001b[0;34m=\u001b[0m \u001b[0mmath_ops\u001b[0m\u001b[0;34m.\u001b[0m\u001b[0mcast\u001b[0m\u001b[0;34m(\u001b[0m\u001b[0mvalue\u001b[0m\u001b[0;34m,\u001b[0m \u001b[0mtensor\u001b[0m\u001b[0;34m.\u001b[0m\u001b[0mdtype\u001b[0m\u001b[0;34m)\u001b[0m\u001b[0;34m\u001b[0m\u001b[0;34m\u001b[0m\u001b[0m\n\u001b[1;32m   3791\u001b[0m       \u001b[0mconverted_inputs\u001b[0m\u001b[0;34m.\u001b[0m\u001b[0mappend\u001b[0m\u001b[0;34m(\u001b[0m\u001b[0mvalue\u001b[0m\u001b[0;34m)\u001b[0m\u001b[0;34m\u001b[0m\u001b[0;34m\u001b[0m\u001b[0m\n\u001b[0;32m-> 3792\u001b[0;31m     \u001b[0moutputs\u001b[0m \u001b[0;34m=\u001b[0m \u001b[0mself\u001b[0m\u001b[0;34m.\u001b[0m\u001b[0m_graph_fn\u001b[0m\u001b[0;34m(\u001b[0m\u001b[0;34m*\u001b[0m\u001b[0mconverted_inputs\u001b[0m\u001b[0;34m)\u001b[0m\u001b[0;34m\u001b[0m\u001b[0;34m\u001b[0m\u001b[0m\n\u001b[0m\u001b[1;32m   3793\u001b[0m \u001b[0;34m\u001b[0m\u001b[0m\n\u001b[1;32m   3794\u001b[0m     \u001b[0;31m# EagerTensor.numpy() will often make a copy to ensure memory safety.\u001b[0m\u001b[0;34m\u001b[0m\u001b[0;34m\u001b[0m\u001b[0;34m\u001b[0m\u001b[0m\n",
            "\u001b[0;32m/usr/local/lib/python3.7/dist-packages/tensorflow/python/eager/function.py\u001b[0m in \u001b[0;36m__call__\u001b[0;34m(self, *args, **kwargs)\u001b[0m\n\u001b[1;32m   1603\u001b[0m       \u001b[0mTypeError\u001b[0m\u001b[0;34m:\u001b[0m \u001b[0mFor\u001b[0m \u001b[0minvalid\u001b[0m \u001b[0mpositional\u001b[0m\u001b[0;34m/\u001b[0m\u001b[0mkeyword\u001b[0m \u001b[0margument\u001b[0m \u001b[0mcombinations\u001b[0m\u001b[0;34m.\u001b[0m\u001b[0;34m\u001b[0m\u001b[0;34m\u001b[0m\u001b[0m\n\u001b[1;32m   1604\u001b[0m     \"\"\"\n\u001b[0;32m-> 1605\u001b[0;31m     \u001b[0;32mreturn\u001b[0m \u001b[0mself\u001b[0m\u001b[0;34m.\u001b[0m\u001b[0m_call_impl\u001b[0m\u001b[0;34m(\u001b[0m\u001b[0margs\u001b[0m\u001b[0;34m,\u001b[0m \u001b[0mkwargs\u001b[0m\u001b[0;34m)\u001b[0m\u001b[0;34m\u001b[0m\u001b[0;34m\u001b[0m\u001b[0m\n\u001b[0m\u001b[1;32m   1606\u001b[0m \u001b[0;34m\u001b[0m\u001b[0m\n\u001b[1;32m   1607\u001b[0m   \u001b[0;32mdef\u001b[0m \u001b[0m_call_impl\u001b[0m\u001b[0;34m(\u001b[0m\u001b[0mself\u001b[0m\u001b[0;34m,\u001b[0m \u001b[0margs\u001b[0m\u001b[0;34m,\u001b[0m \u001b[0mkwargs\u001b[0m\u001b[0;34m,\u001b[0m \u001b[0mcancellation_manager\u001b[0m\u001b[0;34m=\u001b[0m\u001b[0;32mNone\u001b[0m\u001b[0;34m)\u001b[0m\u001b[0;34m:\u001b[0m\u001b[0;34m\u001b[0m\u001b[0;34m\u001b[0m\u001b[0m\n",
            "\u001b[0;32m/usr/local/lib/python3.7/dist-packages/tensorflow/python/eager/function.py\u001b[0m in \u001b[0;36m_call_impl\u001b[0;34m(self, args, kwargs, cancellation_manager)\u001b[0m\n\u001b[1;32m   1643\u001b[0m       raise TypeError(\"Keyword arguments {} unknown. Expected {}.\".format(\n\u001b[1;32m   1644\u001b[0m           list(kwargs.keys()), list(self._arg_keywords)))\n\u001b[0;32m-> 1645\u001b[0;31m     \u001b[0;32mreturn\u001b[0m \u001b[0mself\u001b[0m\u001b[0;34m.\u001b[0m\u001b[0m_call_flat\u001b[0m\u001b[0;34m(\u001b[0m\u001b[0margs\u001b[0m\u001b[0;34m,\u001b[0m \u001b[0mself\u001b[0m\u001b[0;34m.\u001b[0m\u001b[0mcaptured_inputs\u001b[0m\u001b[0;34m,\u001b[0m \u001b[0mcancellation_manager\u001b[0m\u001b[0;34m)\u001b[0m\u001b[0;34m\u001b[0m\u001b[0;34m\u001b[0m\u001b[0m\n\u001b[0m\u001b[1;32m   1646\u001b[0m \u001b[0;34m\u001b[0m\u001b[0m\n\u001b[1;32m   1647\u001b[0m   \u001b[0;32mdef\u001b[0m \u001b[0m_filtered_call\u001b[0m\u001b[0;34m(\u001b[0m\u001b[0mself\u001b[0m\u001b[0;34m,\u001b[0m \u001b[0margs\u001b[0m\u001b[0;34m,\u001b[0m \u001b[0mkwargs\u001b[0m\u001b[0;34m)\u001b[0m\u001b[0;34m:\u001b[0m\u001b[0;34m\u001b[0m\u001b[0;34m\u001b[0m\u001b[0m\n",
            "\u001b[0;32m/usr/local/lib/python3.7/dist-packages/tensorflow/python/eager/function.py\u001b[0m in \u001b[0;36m_call_flat\u001b[0;34m(self, args, captured_inputs, cancellation_manager)\u001b[0m\n\u001b[1;32m   1744\u001b[0m       \u001b[0;31m# No tape is watching; skip to running the function.\u001b[0m\u001b[0;34m\u001b[0m\u001b[0;34m\u001b[0m\u001b[0;34m\u001b[0m\u001b[0m\n\u001b[1;32m   1745\u001b[0m       return self._build_call_outputs(self._inference_function.call(\n\u001b[0;32m-> 1746\u001b[0;31m           ctx, args, cancellation_manager=cancellation_manager))\n\u001b[0m\u001b[1;32m   1747\u001b[0m     forward_backward = self._select_forward_and_backward_functions(\n\u001b[1;32m   1748\u001b[0m         \u001b[0margs\u001b[0m\u001b[0;34m,\u001b[0m\u001b[0;34m\u001b[0m\u001b[0;34m\u001b[0m\u001b[0m\n",
            "\u001b[0;32m/usr/local/lib/python3.7/dist-packages/tensorflow/python/eager/function.py\u001b[0m in \u001b[0;36mcall\u001b[0;34m(self, ctx, args, cancellation_manager)\u001b[0m\n\u001b[1;32m    596\u001b[0m               \u001b[0minputs\u001b[0m\u001b[0;34m=\u001b[0m\u001b[0margs\u001b[0m\u001b[0;34m,\u001b[0m\u001b[0;34m\u001b[0m\u001b[0;34m\u001b[0m\u001b[0m\n\u001b[1;32m    597\u001b[0m               \u001b[0mattrs\u001b[0m\u001b[0;34m=\u001b[0m\u001b[0mattrs\u001b[0m\u001b[0;34m,\u001b[0m\u001b[0;34m\u001b[0m\u001b[0;34m\u001b[0m\u001b[0m\n\u001b[0;32m--> 598\u001b[0;31m               ctx=ctx)\n\u001b[0m\u001b[1;32m    599\u001b[0m         \u001b[0;32melse\u001b[0m\u001b[0;34m:\u001b[0m\u001b[0;34m\u001b[0m\u001b[0;34m\u001b[0m\u001b[0m\n\u001b[1;32m    600\u001b[0m           outputs = execute.execute_with_cancellation(\n",
            "\u001b[0;32m/usr/local/lib/python3.7/dist-packages/tensorflow/python/eager/execute.py\u001b[0m in \u001b[0;36mquick_execute\u001b[0;34m(op_name, num_outputs, inputs, attrs, ctx, name)\u001b[0m\n\u001b[1;32m     58\u001b[0m     \u001b[0mctx\u001b[0m\u001b[0;34m.\u001b[0m\u001b[0mensure_initialized\u001b[0m\u001b[0;34m(\u001b[0m\u001b[0;34m)\u001b[0m\u001b[0;34m\u001b[0m\u001b[0;34m\u001b[0m\u001b[0m\n\u001b[1;32m     59\u001b[0m     tensors = pywrap_tfe.TFE_Py_Execute(ctx._handle, device_name, op_name,\n\u001b[0;32m---> 60\u001b[0;31m                                         inputs, attrs, num_outputs)\n\u001b[0m\u001b[1;32m     61\u001b[0m   \u001b[0;32mexcept\u001b[0m \u001b[0mcore\u001b[0m\u001b[0;34m.\u001b[0m\u001b[0m_NotOkStatusException\u001b[0m \u001b[0;32mas\u001b[0m \u001b[0me\u001b[0m\u001b[0;34m:\u001b[0m\u001b[0;34m\u001b[0m\u001b[0;34m\u001b[0m\u001b[0m\n\u001b[1;32m     62\u001b[0m     \u001b[0;32mif\u001b[0m \u001b[0mname\u001b[0m \u001b[0;32mis\u001b[0m \u001b[0;32mnot\u001b[0m \u001b[0;32mNone\u001b[0m\u001b[0;34m:\u001b[0m\u001b[0;34m\u001b[0m\u001b[0;34m\u001b[0m\u001b[0m\n",
            "\u001b[0;31mKeyboardInterrupt\u001b[0m: "
          ]
        }
      ],
      "source": [
        "history = model.fit_generator(train_generator, \n",
        "                     steps_per_epoch=n_train_samples//BATCH_SIZE,\n",
        "                     validation_data=validation_generator,\n",
        "                     validation_steps=n_val_samples//BATCH_SIZE,\n",
        "                     epochs=epochs,\n",
        "                     callbacks=callbacks,\n",
        "                     verbose=1)"
      ]
    },
    {
      "cell_type": "code",
      "source": [
        "hist = pd.DataFrame(history.history)\n",
        "plt.style.use(\"ggplot\")\n",
        "plt.figure(figsize=(12,12))\n",
        "plt.plot(hist[\"crf_viterbi_accuracy\"], label=\"acc\")\n",
        "plt.plot(hist[\"val_crf_viterbi_accuracy\"], label=\"val_acc\")\n",
        "plt.legend(loc='upper center', bbox_to_anchor=(0.5, 1.05),\n",
        " fancybox=True, shadow=True)\n",
        "plt.savefig('Bi-Lstm+CRF')\n",
        "plt.show()"
      ],
      "metadata": {
        "id": "XTlpf0yiJ1qo",
        "colab": {
          "base_uri": "https://localhost:8080/",
          "height": 728
        },
        "outputId": "db35d86c-e73b-4f4f-f5ba-26b45663cb46"
      },
      "execution_count": null,
      "outputs": [
        {
          "output_type": "display_data",
          "data": {
            "text/plain": [
              "<Figure size 864x864 with 1 Axes>"
            ],
            "image/png": "[encoded data removed]"
          },
          "metadata": {}
        }
      ]
    },
    {
      "cell_type": "code",
      "source": [
        "if not os.path.exists('/content/drive/MyDrive/BiLSTM_PosTag/Models/'):\n",
        "    print('MAKING DIRECTORY Models/ to save model file')\n",
        "    os.makedirs('/content/drive/MyDrive/BiLSTM_PosTag/Models/')"
      ],
      "metadata": {
        "id": "O0LW3DvW7Ph4"
      },
      "execution_count": null,
      "outputs": []
    },
    {
      "cell_type": "markdown",
      "source": [
        "# Testing"
      ],
      "metadata": {
        "id": "XiQtJDkX6arp"
      }
    },
    {
      "cell_type": "code",
      "source": [
        "def logits_to_tokens(sequences, index):\n",
        "    token_sequences = []\n",
        "    for categorical_sequence in sequences:\n",
        "        token_sequence = []\n",
        "        for categorical in categorical_sequence:\n",
        "            token_sequence.append(index[np.argmax(categorical)])\n",
        "        token_sequences.append(token_sequence)\n",
        " \n",
        "    return token_sequences"
      ],
      "metadata": {
        "id": "93tVQKBp6XUu"
      },
      "execution_count": null,
      "outputs": []
    },
    {
      "cell_type": "code",
      "source": [
        "predictions = model.predict(X_test,verbose=1)"
      ],
      "metadata": {
        "colab": {
          "base_uri": "https://localhost:8080/"
        },
        "id": "7mIiM7hM9fC6",
        "outputId": "5e77d1a8-254f-4fc4-bf95-8e539796befb"
      },
      "execution_count": null,
      "outputs": [
        {
          "output_type": "stream",
          "name": "stdout",
          "text": [
            "1684/1684 [==============================] - 4s 2ms/step\n"
          ]
        }
      ]
    },
    {
      "cell_type": "code",
      "source": [
        "len(predictions)"
      ],
      "metadata": {
        "colab": {
          "base_uri": "https://localhost:8080/"
        },
        "id": "bA3CBPEgKWsu",
        "outputId": "beb790cf-0616-45fa-880d-cee9528fe636"
      },
      "execution_count": null,
      "outputs": [
        {
          "output_type": "execute_result",
          "data": {
            "text/plain": [
              "1684"
            ]
          },
          "metadata": {},
          "execution_count": 85
        }
      ]
    },
    {
      "cell_type": "code",
      "source": [
        "Y_PRED=logits_to_tokens(predictions, {i: t for t, i in tag2int.items()})"
      ],
      "metadata": {
        "id": "a3FEGOERKWu1"
      },
      "execution_count": null,
      "outputs": []
    },
    {
      "cell_type": "markdown",
      "source": [
        "# Saving in CSV"
      ],
      "metadata": {
        "id": "PjW0b1DfNXZe"
      }
    },
    {
      "cell_type": "code",
      "source": [
        "import csv"
      ],
      "metadata": {
        "id": "gCr0zTO1-UBK"
      },
      "execution_count": null,
      "outputs": []
    },
    {
      "cell_type": "code",
      "source": [
        "fields=['word','correct_tag','predicted_tag']"
      ],
      "metadata": {
        "id": "6lvfueHyNWgZ"
      },
      "execution_count": null,
      "outputs": []
    },
    {
      "cell_type": "code",
      "source": [
        "li=open(\"/content/drive/MyDrive/BiLSTM_PosTag/try1_output.csv\",'w')"
      ],
      "metadata": {
        "id": "e7XPTfZfQxRc"
      },
      "execution_count": null,
      "outputs": []
    },
    {
      "cell_type": "code",
      "source": [
        "writer=csv.writer(li)"
      ],
      "metadata": {
        "id": "EzS1XGzKQ-Vz"
      },
      "execution_count": null,
      "outputs": []
    },
    {
      "cell_type": "code",
      "source": [
        "writer.writerow(fields)"
      ],
      "metadata": {
        "colab": {
          "base_uri": "https://localhost:8080/"
        },
        "id": "StqBnhGXQ-b9",
        "outputId": "bdd8211c-d8a6-4dcd-9908-13133c91e6cf"
      },
      "execution_count": null,
      "outputs": [
        {
          "output_type": "execute_result",
          "data": {
            "text/plain": [
              "32"
            ]
          },
          "metadata": {},
          "execution_count": 91
        }
      ]
    },
    {
      "cell_type": "code",
      "source": [
        ""
      ],
      "metadata": {
        "id": "vsgDt7a4ez4k"
      },
      "execution_count": null,
      "outputs": []
    },
    {
      "cell_type": "code",
      "source": [
        "print(len(X_test), len(Y_PRED),len(Y_test_copy))"
      ],
      "metadata": {
        "colab": {
          "base_uri": "https://localhost:8080/"
        },
        "id": "qrQHX264NxRQ",
        "outputId": "53642e81-1e3b-43c0-8a19-a82c49a95cdd"
      },
      "execution_count": null,
      "outputs": [
        {
          "output_type": "stream",
          "name": "stdout",
          "text": [
            "1684 1684 1684\n"
          ]
        }
      ]
    },
    {
      "cell_type": "code",
      "source": [
        "file=open(\"/content/drive/MyDrive/HINDI_POS_RESULT.txt\",'w')\n",
        "ni=0\n",
        "count=0\n",
        "for li in Y_PRED:\n",
        "  #  file.write('#\\n')\n",
        "    count+=1\n",
        "    if(count==35152):\n",
        "        print(li,ni)\n",
        "    for wi in li:\n",
        "        if(wi!='-PAD-'):\n",
        "            ni+=1\n",
        "            file.write(wi+'\\n')\n",
        "    file.write('\\n')\n",
        "file.close()"
      ],
      "metadata": {
        "id": "DauGAPeYJJSg"
      },
      "execution_count": null,
      "outputs": []
    },
    {
      "cell_type": "code",
      "source": [
        "for i in range(len(X_test)):\n",
        "  for j in range(len(X_test[i])):\n",
        "    if(int2word[X_test[i][j]]!='-PAD-'):\n",
        "      writer.writerow([int2word[X_test[i][j]],int2tag[Y_test_copy[i][j]],Y_PRED[i][j]])"
      ],
      "metadata": {
        "id": "J8WOiYeWNWpr",
        "colab": {
          "base_uri": "https://localhost:8080/",
          "height": 207
        },
        "outputId": "7eeb36e8-23b6-40d2-e56a-349ad46adb04"
      },
      "execution_count": null,
      "outputs": [
        {
          "output_type": "error",
          "ename": "IndexError",
          "evalue": "ignored",
          "traceback": [
            "\u001b[0;31m---------------------------------------------------------------------------\u001b[0m",
            "\u001b[0;31mIndexError\u001b[0m                                Traceback (most recent call last)",
            "\u001b[0;32m<ipython-input-94-85852cba490d>\u001b[0m in \u001b[0;36m<module>\u001b[0;34m()\u001b[0m\n\u001b[1;32m      2\u001b[0m   \u001b[0;32mfor\u001b[0m \u001b[0mj\u001b[0m \u001b[0;32min\u001b[0m \u001b[0mrange\u001b[0m\u001b[0;34m(\u001b[0m\u001b[0mlen\u001b[0m\u001b[0;34m(\u001b[0m\u001b[0mX_test\u001b[0m\u001b[0;34m[\u001b[0m\u001b[0mi\u001b[0m\u001b[0;34m]\u001b[0m\u001b[0;34m)\u001b[0m\u001b[0;34m)\u001b[0m\u001b[0;34m:\u001b[0m\u001b[0;34m\u001b[0m\u001b[0;34m\u001b[0m\u001b[0m\n\u001b[1;32m      3\u001b[0m     \u001b[0;32mif\u001b[0m\u001b[0;34m(\u001b[0m\u001b[0mint2word\u001b[0m\u001b[0;34m[\u001b[0m\u001b[0mX_test\u001b[0m\u001b[0;34m[\u001b[0m\u001b[0mi\u001b[0m\u001b[0;34m]\u001b[0m\u001b[0;34m[\u001b[0m\u001b[0mj\u001b[0m\u001b[0;34m]\u001b[0m\u001b[0;34m]\u001b[0m\u001b[0;34m!=\u001b[0m\u001b[0;34m'-PAD-'\u001b[0m\u001b[0;34m)\u001b[0m\u001b[0;34m:\u001b[0m\u001b[0;34m\u001b[0m\u001b[0;34m\u001b[0m\u001b[0m\n\u001b[0;32m----> 4\u001b[0;31m       \u001b[0mwriter\u001b[0m\u001b[0;34m.\u001b[0m\u001b[0mwriterow\u001b[0m\u001b[0;34m(\u001b[0m\u001b[0;34m[\u001b[0m\u001b[0mint2word\u001b[0m\u001b[0;34m[\u001b[0m\u001b[0mX_test\u001b[0m\u001b[0;34m[\u001b[0m\u001b[0mi\u001b[0m\u001b[0;34m]\u001b[0m\u001b[0;34m[\u001b[0m\u001b[0mj\u001b[0m\u001b[0;34m]\u001b[0m\u001b[0;34m]\u001b[0m\u001b[0;34m,\u001b[0m\u001b[0mint2tag\u001b[0m\u001b[0;34m[\u001b[0m\u001b[0mY_test_copy\u001b[0m\u001b[0;34m[\u001b[0m\u001b[0mi\u001b[0m\u001b[0;34m]\u001b[0m\u001b[0;34m[\u001b[0m\u001b[0mj\u001b[0m\u001b[0;34m]\u001b[0m\u001b[0;34m]\u001b[0m\u001b[0;34m,\u001b[0m\u001b[0mY_PRED\u001b[0m\u001b[0;34m[\u001b[0m\u001b[0mi\u001b[0m\u001b[0;34m]\u001b[0m\u001b[0;34m[\u001b[0m\u001b[0mj\u001b[0m\u001b[0;34m]\u001b[0m\u001b[0;34m]\u001b[0m\u001b[0;34m)\u001b[0m\u001b[0;34m\u001b[0m\u001b[0;34m\u001b[0m\u001b[0m\n\u001b[0m",
            "\u001b[0;31mIndexError\u001b[0m: list index out of range"
          ]
        }
      ]
    },
    {
      "cell_type": "code",
      "source": [
        "len(Y_test_copy)"
      ],
      "metadata": {
        "id": "EJbjsNPpQBsD"
      },
      "execution_count": null,
      "outputs": []
    },
    {
      "cell_type": "code",
      "source": [
        "pred=[]\n",
        "for i in Y_PRED:\n",
        "  li=[]\n",
        "  for x in i:\n",
        "    if(x!='-PAD-'):\n",
        "      li.append(x)\n",
        "  pred.append(li)"
      ],
      "metadata": {
        "id": "Fryq_hCXRjbv"
      },
      "execution_count": null,
      "outputs": []
    },
    {
      "cell_type": "code",
      "source": [
        "len(pred)"
      ],
      "metadata": {
        "colab": {
          "base_uri": "https://localhost:8080/"
        },
        "id": "7ZVXiUXUJ9H8",
        "outputId": "494561d0-9af6-447d-8e8b-370f6f93c1b4"
      },
      "execution_count": null,
      "outputs": [
        {
          "output_type": "execute_result",
          "data": {
            "text/plain": [
              "1684"
            ]
          },
          "metadata": {},
          "execution_count": 99
        }
      ]
    },
    {
      "cell_type": "code",
      "source": [
        "correct =0\n",
        "wrong=0"
      ],
      "metadata": {
        "id": "trqFMj1sKU9v"
      },
      "execution_count": null,
      "outputs": []
    },
    {
      "cell_type": "code",
      "source": [
        "for i in range(len(pred)):\n",
        "  for x in range(len(pred[i])):\n",
        "    if(pred[i][x]==Y_test_copy[i][x]):\n",
        "      correct+=1\n",
        "    else:\n",
        "      wrong+=1"
      ],
      "metadata": {
        "id": "5r4B_BHqKDug"
      },
      "execution_count": null,
      "outputs": []
    },
    {
      "cell_type": "code",
      "source": [
        "correct, wrong"
      ],
      "metadata": {
        "colab": {
          "base_uri": "https://localhost:8080/"
        },
        "id": "WHahtTwuKpZu",
        "outputId": "5c017bc8-9320-4bf2-d1f3-811fccdc3052"
      },
      "execution_count": null,
      "outputs": [
        {
          "output_type": "execute_result",
          "data": {
            "text/plain": [
              "(33881, 1549)"
            ]
          },
          "metadata": {},
          "execution_count": 102
        }
      ]
    },
    {
      "cell_type": "code",
      "source": [
        "correct/( correct+wrong)"
      ],
      "metadata": {
        "colab": {
          "base_uri": "https://localhost:8080/"
        },
        "id": "Fme9rT7bKehd",
        "outputId": "a0cec395-18b1-4d86-b64a-d5aab26bf905"
      },
      "execution_count": null,
      "outputs": [
        {
          "output_type": "execute_result",
          "data": {
            "text/plain": [
              "0.9562799887101326"
            ]
          },
          "metadata": {},
          "execution_count": 103
        }
      ]
    },
    {
      "cell_type": "code",
      "source": [
        ""
      ],
      "metadata": {
        "id": "oCvJQacSUTM5"
      },
      "execution_count": null,
      "outputs": []
    }
  ],
  "metadata": {
    "colab": {
      "name": "BiLSTM_CRF_Final.ipynb",
      "provenance": [],
      "collapsed_sections": []
    },
    "kernelspec": {
      "display_name": "Python 3",
      "name": "python3"
    },
    "language_info": {
      "name": "python"
    },
    "accelerator": "GPU"
  },
  "nbformat": 4,
  "nbformat_minor": 0
}