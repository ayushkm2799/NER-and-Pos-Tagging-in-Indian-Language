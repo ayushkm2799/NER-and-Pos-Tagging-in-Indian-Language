{
 "cells": [
  {
   "cell_type": "code",
   "execution_count": 8,
   "id": "a5a15057",
   "metadata": {},
   "outputs": [],
   "source": [
    "fh =open(\"train_data/train_data.txt\",'r')"
   ]
  },
  {
   "cell_type": "code",
   "execution_count": 9,
   "id": "b7c0e54b",
   "metadata": {},
   "outputs": [],
   "source": [
    "data = fh.readlines()"
   ]
  },
  {
   "cell_type": "code",
   "execution_count": 11,
   "id": "b171048c",
   "metadata": {},
   "outputs": [
    {
     "data": {
      "text/plain": [
       "'यह/DEM एशिया/NNP की/PSP सबसे/INTF बड़ी/JJ मस्जिदों/NN में/PSP से/PSP एक/QC है/VM ।/SYM\\n'"
      ]
     },
     "execution_count": 11,
     "metadata": {},
     "output_type": "execute_result"
    }
   ],
   "source": [
    "data[0]"
   ]
  },
  {
   "cell_type": "code",
   "execution_count": 13,
   "id": "c58f07a5",
   "metadata": {},
   "outputs": [],
   "source": [
    "import random \n",
    "random.shuffle(data)"
   ]
  },
  {
   "cell_type": "code",
   "execution_count": 14,
   "id": "e32c4916",
   "metadata": {},
   "outputs": [],
   "source": [
    "fh1 = open(\"train_data/train.txt\",'w')\n",
    "fh2 = open(\"train_data/test.txt\",'w')"
   ]
  },
  {
   "cell_type": "code",
   "execution_count": 18,
   "id": "63f6cbcf",
   "metadata": {},
   "outputs": [],
   "source": [
    "count=0"
   ]
  },
  {
   "cell_type": "code",
   "execution_count": 27,
   "id": "c40b6e84",
   "metadata": {},
   "outputs": [
    {
     "data": {
      "text/plain": [
       "14963"
      ]
     },
     "execution_count": 27,
     "metadata": {},
     "output_type": "execute_result"
    }
   ],
   "source": [
    "len(data)"
   ]
  },
  {
   "cell_type": "code",
   "execution_count": 25,
   "id": "46f91cce",
   "metadata": {},
   "outputs": [],
   "source": [
    "for i in range(11971):\n",
    "    fh1.write(data[i] + \"\\n\")\n",
    "fh1.close()"
   ]
  },
  {
   "cell_type": "code",
   "execution_count": 29,
   "id": "c8c842f2",
   "metadata": {},
   "outputs": [],
   "source": [
    "for i in range(11971,14963):\n",
    "    fh2.write(data[i] + \"\\n\")\n",
    "fh2.close()"
   ]
  },
  {
   "cell_type": "code",
   "execution_count": null,
   "id": "13affb7e",
   "metadata": {},
   "outputs": [],
   "source": []
  }
 ],
 "metadata": {
  "kernelspec": {
   "display_name": "Python 3",
   "language": "python",
   "name": "python3"
  },
  "language_info": {
   "codemirror_mode": {
    "name": "ipython",
    "version": 3
   },
   "file_extension": ".py",
   "mimetype": "text/x-python",
   "name": "python",
   "nbconvert_exporter": "python",
   "pygments_lexer": "ipython3",
   "version": "3.8.8"
  }
 },
 "nbformat": 4,
 "nbformat_minor": 5
}
